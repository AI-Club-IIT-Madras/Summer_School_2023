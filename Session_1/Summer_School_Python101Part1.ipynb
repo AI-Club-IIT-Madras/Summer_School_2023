{
  "nbformat": 4,
  "nbformat_minor": 0,
  "metadata": {
    "colab": {
      "provenance": []
    },
    "kernelspec": {
      "name": "python3",
      "display_name": "Python 3"
    },
    "language_info": {
      "name": "python"
    }
  },
  "cells": [
    {
      "cell_type": "markdown",
      "source": [
        "#print()\n",
        "\n",
        "The print() function prints the specified message to the screen."
      ],
      "metadata": {
        "id": "1FAJEA3VMcT6"
      }
    },
    {
      "cell_type": "code",
      "source": [
        "print(\"Hello world\")"
      ],
      "metadata": {
        "id": "On6-iOynMmOk",
        "colab": {
          "base_uri": "https://localhost:8080/"
        },
        "outputId": "687fd9b3-4179-49bc-cd19-3d27d17ed68f"
      },
      "execution_count": null,
      "outputs": [
        {
          "output_type": "stream",
          "name": "stdout",
          "text": [
            "Hello world\n"
          ]
        }
      ]
    },
    {
      "cell_type": "code",
      "source": [
        "a = 9\n",
        "b = 3\n",
        "print(\"square of\" ,b,\"is\",a)\n",
        "print(f\"square of {b} is {a}\") #These are called fstrings\n",
        "\n",
        "#Lines of code that are green(followed by #) are ignored by the interpreter.\n",
        "#These are called comments and they are used to improve the readablity of code\n"
      ],
      "metadata": {
        "id": "yr1HHn8aMxdA",
        "colab": {
          "base_uri": "https://localhost:8080/"
        },
        "outputId": "3b98b71f-b469-47d4-807c-fbb76ca88eef"
      },
      "execution_count": null,
      "outputs": [
        {
          "output_type": "stream",
          "name": "stdout",
          "text": [
            "square of 3 is 9\n",
            "square of 3 is 9\n"
          ]
        }
      ]
    },
    {
      "cell_type": "markdown",
      "source": [
        "#Data types"
      ],
      "metadata": {
        "id": "ZiDmSlR2P3Dv"
      }
    },
    {
      "cell_type": "code",
      "source": [
        "x = 10\n",
        "name = \"Student\"\n",
        "is_it_raining = True\n",
        "decimal = 1.82\n",
        "\n",
        "print(x)\n",
        "print(name)\n",
        "print(is_it_raining)\n",
        "print(decimal)\n",
        "\n",
        "print(type(x))\n",
        "print(type(name))\n",
        "print(type(is_it_raining))\n",
        "print(type(decimal))"
      ],
      "metadata": {
        "id": "NBj1NhtPP75e",
        "colab": {
          "base_uri": "https://localhost:8080/"
        },
        "outputId": "59043f10-f6a4-4808-c5b8-4b0872b8a687"
      },
      "execution_count": null,
      "outputs": [
        {
          "output_type": "stream",
          "name": "stdout",
          "text": [
            "10\n",
            "Student\n",
            "True\n",
            "1.82\n",
            "<class 'int'>\n",
            "<class 'str'>\n",
            "<class 'bool'>\n",
            "<class 'float'>\n"
          ]
        }
      ]
    },
    {
      "cell_type": "markdown",
      "source": [
        "As you can see Python automatically detects data type of the variable unlike the other programming languages."
      ],
      "metadata": {
        "id": "TofiGafKP_zs"
      }
    },
    {
      "cell_type": "markdown",
      "source": [
        "##Type casting"
      ],
      "metadata": {
        "id": "jNo43Uxajj4w"
      }
    },
    {
      "cell_type": "code",
      "source": [
        "x = int(1)        # x will be 1\n",
        "y = int(5.6)      # y will be 5          NOTE: The number is NOT rounded off but the decimal part is stripped away\n",
        "z = int(\"200056\") # z will be 200056\n",
        "\n",
        "print(type(z))"
      ],
      "metadata": {
        "id": "vFFEcq93jnHt",
        "colab": {
          "base_uri": "https://localhost:8080/"
        },
        "outputId": "89f0c601-9bea-476a-c1fe-34592420e27f"
      },
      "execution_count": null,
      "outputs": [
        {
          "output_type": "stream",
          "name": "stdout",
          "text": [
            "<class 'int'>\n"
          ]
        }
      ]
    },
    {
      "cell_type": "markdown",
      "source": [
        "##Operators\n",
        "Operators perfom processes on variables and constants. The different kinds of operators can be understood through examples.\n",
        "\n",
        "###Arithmetic Operators\n",
        "\n",
        "\n",
        "1. Addition (+)\n",
        "2. Subtraction (-)\n",
        "3. Multiplication (*)\n",
        "4. Division (/)\n",
        "5. Modulus(%)\n",
        "6. Exponent(**)\n"
      ],
      "metadata": {
        "id": "2tYSX0TGUwXp"
      }
    },
    {
      "cell_type": "code",
      "source": [
        "a = 5\n",
        "b = 6\n",
        "\n",
        "# operations in order\n",
        "\n",
        "print('a + b = ', a + b)\n",
        "print('b - 2 = ', b - 2)\n",
        "print('a*4 =', a * 4)\n",
        "print('b/3 = ', b/3)\n",
        "print('a % b = ', a%b) #5/6 q=0 rem=5\n",
        "print('a^2 = ', a**2 )"
      ],
      "metadata": {
        "id": "UZ1BTvDVc5CJ",
        "colab": {
          "base_uri": "https://localhost:8080/"
        },
        "outputId": "8110ec7a-5cda-4187-eb8b-37d9d5862e80"
      },
      "execution_count": null,
      "outputs": [
        {
          "output_type": "stream",
          "name": "stdout",
          "text": [
            "a + b =  11\n",
            "b - 2 =  4\n",
            "a*4 = 20\n",
            "b/3 =  2.0\n",
            "a % b =  5\n",
            "a^2 =  25\n"
          ]
        }
      ]
    },
    {
      "cell_type": "markdown",
      "source": [
        "###Comparison Operators\n",
        "\n",
        "\n",
        "1.    Check equality (== )\n",
        "2.    Check inequality(!= or <>)\n",
        "3.    Greater than (>)\n",
        "4.    Less than(<)\n",
        "5.    Greater than or equal to (>=)\n",
        "6.    Less than or equal to (<=)\n",
        "\n",
        "When used in expressions,  the truth value of the expression returned."
      ],
      "metadata": {
        "id": "7MsE5Hgpc7SJ"
      }
    },
    {
      "cell_type": "code",
      "source": [
        "a = 5\n",
        "b = 6\n",
        "\n",
        "#operations in order\n",
        "\n",
        "print(a==b)\n",
        "print(b!=2)\n",
        "print(a>4)\n",
        "print(b<3)\n",
        "print(a>=b)\n",
        "print(a<=2)\n",
        "print(type(a==b))"
      ],
      "metadata": {
        "id": "XDIJl6zKdCRA",
        "colab": {
          "base_uri": "https://localhost:8080/"
        },
        "outputId": "956c06bc-c170-4a06-9baf-2daeee3ae81c"
      },
      "execution_count": null,
      "outputs": [
        {
          "output_type": "stream",
          "name": "stdout",
          "text": [
            "False\n",
            "True\n",
            "True\n",
            "False\n",
            "False\n",
            "False\n",
            "<class 'bool'>\n"
          ]
        }
      ]
    },
    {
      "cell_type": "markdown",
      "source": [
        "###Logical Operators\n",
        "\n",
        "\n",
        "\n",
        "1.  and\n",
        "2.  or\n",
        "3.  not\n",
        "\n",
        "When used in expressions, the truth value of the expression returned."
      ],
      "metadata": {
        "id": "nvIBcPDTdIwj"
      }
    },
    {
      "cell_type": "code",
      "source": [
        "a = 5\n",
        "b = 6\n",
        "print(a<b or a==b) # t or f\n",
        "print(a<b and (a+b)==11) # t and t\n",
        "print(not a<b) # not t"
      ],
      "metadata": {
        "id": "3O8nyD97dOh9",
        "colab": {
          "base_uri": "https://localhost:8080/"
        },
        "outputId": "53d222a4-f069-4aed-a522-35ecb557256e"
      },
      "execution_count": null,
      "outputs": [
        {
          "output_type": "stream",
          "name": "stdout",
          "text": [
            "True\n",
            "True\n",
            "False\n"
          ]
        }
      ]
    },
    {
      "cell_type": "code",
      "source": [
        "a = None\n",
        "b = a or 4\n",
        "print(b)\n",
        "print(type(a))"
      ],
      "metadata": {
        "id": "fD2LKKXdR1P-",
        "colab": {
          "base_uri": "https://localhost:8080/"
        },
        "outputId": "c911e8f7-1de7-4047-8fd5-f1ab04019c36"
      },
      "execution_count": null,
      "outputs": [
        {
          "output_type": "stream",
          "name": "stdout",
          "text": [
            "4\n",
            "<class 'NoneType'>\n"
          ]
        }
      ]
    },
    {
      "cell_type": "markdown",
      "source": [
        "What's the value of b?"
      ],
      "metadata": {
        "id": "kGDJFY3nbG--"
      }
    },
    {
      "cell_type": "markdown",
      "source": [
        "##Conditional Statements\n",
        "\n",
        "Conditional Statements are used in decision making."
      ],
      "metadata": {
        "id": "p1QtQ4I1hZQa"
      }
    },
    {
      "cell_type": "code",
      "source": [
        "Is_it_raining = False\n",
        "if(Is_it_raining):                                            #if(condition):\n",
        "  print(\"Oh no , I cant play football now\")                      #statement\n",
        "else:                                                         #elif(condition):\n",
        "  print(\"Lessgooo play football\")                                #statement\n",
        "                                                              #else:\n",
        "                                                                 #statement"
      ],
      "metadata": {
        "id": "zNqr08V-hltM",
        "colab": {
          "base_uri": "https://localhost:8080/"
        },
        "outputId": "8eb4501e-01d0-411b-8ea9-72dbe51c7427"
      },
      "execution_count": null,
      "outputs": [
        {
          "output_type": "stream",
          "name": "stdout",
          "text": [
            "Lessgooo play football\n"
          ]
        }
      ]
    },
    {
      "cell_type": "code",
      "source": [
        "Summer = False\n",
        "Winter = True\n",
        "Rainy = False\n",
        "\n",
        "if(Summer):\n",
        "  print(\"Lets eat ice cream!\")\n",
        "elif(Winter):\n",
        "  print(\"Lets play with snow!\")\n",
        "elif(Rainy):\n",
        "  print(\"Lets drink Chai!\")\n",
        "else:\n",
        "  print(\"Lets just go and study:/\")"
      ],
      "metadata": {
        "id": "98yCrrVGhs22",
        "colab": {
          "base_uri": "https://localhost:8080/"
        },
        "outputId": "cdaf14af-de70-4b6f-dc66-c160ee739981"
      },
      "execution_count": null,
      "outputs": [
        {
          "output_type": "stream",
          "name": "stdout",
          "text": [
            "Lets play with snow!\n"
          ]
        }
      ]
    },
    {
      "cell_type": "markdown",
      "source": [
        "##Loops\n",
        "\n",
        "Let's look at two programs with the same output:\n",
        "\n",
        "\n"
      ],
      "metadata": {
        "id": "HqFEZ3A8qlS2"
      }
    },
    {
      "cell_type": "code",
      "source": [
        "print('welcome to summer school')\n",
        "print('welcome to summer school')\n",
        "print('welcome to summer school')\n",
        "print('welcome to summer school')\n",
        "print('welcome to summer school')\n",
        "print('welcome to summer school')\n",
        "print('welcome to summer school')"
      ],
      "metadata": {
        "id": "Aw66KJVdwQC3",
        "colab": {
          "base_uri": "https://localhost:8080/"
        },
        "outputId": "b3d14e28-9047-47c0-81db-49f49421956b"
      },
      "execution_count": null,
      "outputs": [
        {
          "output_type": "stream",
          "name": "stdout",
          "text": [
            "welcome to summer school\n",
            "welcome to summer school\n",
            "welcome to summer school\n",
            "welcome to summer school\n",
            "welcome to summer school\n",
            "welcome to summer school\n",
            "welcome to summer school\n"
          ]
        }
      ]
    },
    {
      "cell_type": "code",
      "source": [
        "t = 0\n",
        "while( t < 10):                          #while(condition):\n",
        "                                           #statement\n",
        "    print(\"welcome to summer school\" ,end = \"$\")\n",
        "    t = t + 1       #incrementing t"
      ],
      "metadata": {
        "id": "UGGEpbCVwQ2T",
        "colab": {
          "base_uri": "https://localhost:8080/"
        },
        "outputId": "26750a94-196b-46a2-da61-8476bfcb872c"
      },
      "execution_count": null,
      "outputs": [
        {
          "output_type": "stream",
          "name": "stdout",
          "text": [
            "welcome to summer school$welcome to summer school$welcome to summer school$welcome to summer school$welcome to summer school$welcome to summer school$welcome to summer school$welcome to summer school$welcome to summer school$welcome to summer school$"
          ]
        }
      ]
    },
    {
      "cell_type": "markdown",
      "source": [
        "###FOR Loops\n",
        "The for loop has the following form\n"
      ],
      "metadata": {
        "id": "cIyR8b8uwfSF"
      }
    },
    {
      "cell_type": "code",
      "source": [
        "for i in range(5,0,-1): #(initial value , final value(excluded),increment)\n",
        "\tprint(i)"
      ],
      "metadata": {
        "id": "cByqLFlfzNCK",
        "colab": {
          "base_uri": "https://localhost:8080/"
        },
        "outputId": "81d0dba9-c8e7-4db1-b4fc-4e63fcc8fb51"
      },
      "execution_count": null,
      "outputs": [
        {
          "output_type": "stream",
          "name": "stdout",
          "text": [
            "5\n",
            "4\n",
            "3\n",
            "2\n",
            "1\n"
          ]
        }
      ]
    },
    {
      "cell_type": "markdown",
      "source": [
        "##FOR loops with an ELSE block???\n",
        "Yup, they exist"
      ],
      "metadata": {
        "id": "VzBAfdp7ixvv"
      }
    },
    {
      "cell_type": "code",
      "source": [
        "for i in ['T','P']:\n",
        "   print(i)\n",
        "else:\n",
        "   # Loop else statement\n",
        "   # there is no break statement in for loop, hence else part gets executed directly\n",
        "   print(\"ForLoop-else statement successfully executed\")"
      ],
      "metadata": {
        "id": "WO0jS8-Fi4C1",
        "colab": {
          "base_uri": "https://localhost:8080/"
        },
        "outputId": "d5f537f8-b03f-4874-ed15-d92eb74523dc"
      },
      "execution_count": null,
      "outputs": [
        {
          "output_type": "stream",
          "name": "stdout",
          "text": [
            "T\n",
            "P\n",
            "ForLoop-else statement successfully executed\n"
          ]
        }
      ]
    },
    {
      "cell_type": "code",
      "source": [
        "for i in ['T','P']:\n",
        "   print(i)\n",
        "   break\n",
        "else:\n",
        "   # Loop else statement\n",
        "   # terminated after 1st iteration due to break statement in for loop\n",
        "   print(\"Loop-else statement successfully executed\")"
      ],
      "metadata": {
        "id": "d-E77VYii_7d",
        "colab": {
          "base_uri": "https://localhost:8080/"
        },
        "outputId": "f16af581-488b-4fa1-f6ed-8748d9e9f232"
      },
      "execution_count": null,
      "outputs": [
        {
          "output_type": "stream",
          "name": "stdout",
          "text": [
            "T\n"
          ]
        }
      ]
    },
    {
      "cell_type": "markdown",
      "source": [
        "##Nested Loops\n",
        " Loops within loops"
      ],
      "metadata": {
        "id": "qXMKQf7j3WRO"
      }
    },
    {
      "cell_type": "code",
      "source": [
        "x = 4\n",
        "for i in range(1, x + 1):    #(1,5)   i=4\n",
        "  for j in range(1, i + 1):  #1,5\n",
        "    print(j, end = '')\n",
        "  print('')"
      ],
      "metadata": {
        "id": "9FWaMDxy6yvr",
        "colab": {
          "base_uri": "https://localhost:8080/"
        },
        "outputId": "87ba8df2-05e2-4aeb-b96a-8c55b42058c8"
      },
      "execution_count": null,
      "outputs": [
        {
          "output_type": "stream",
          "name": "stdout",
          "text": [
            "1\n",
            "12\n",
            "123\n",
            "1234\n"
          ]
        }
      ]
    },
    {
      "cell_type": "markdown",
      "source": [
        "## Functions\n",
        "\n",
        "* Functions are modules of code that accomplish a specific task.\n",
        "* A function executes only when it is called.\n",
        "* Functions usually take inputs (data), process it, and output (or return) result. Once a function is written, it can be used over and over again."
      ],
      "metadata": {
        "id": "KsY0Mi17mS8u"
      }
    },
    {
      "cell_type": "code",
      "source": [
        "# example function\n",
        "def add_nums(a, b):\n",
        "  return a+b\n",
        "\n",
        "add_nums(2,3)\n",
        "print(add_nums(2,3)) #function call inside the print statement and even print is a function call"
      ],
      "metadata": {
        "id": "GIYdmEiPycJU",
        "colab": {
          "base_uri": "https://localhost:8080/"
        },
        "outputId": "244e5e90-2109-4fb7-9e48-96fa9b9cc739"
      },
      "execution_count": null,
      "outputs": [
        {
          "output_type": "stream",
          "name": "stdout",
          "text": [
            "5\n"
          ]
        }
      ]
    },
    {
      "cell_type": "markdown",
      "source": [
        "Here a and b are the parameters and the inputs that we provided (i.e 2,3) while calling the function are the arguments."
      ],
      "metadata": {
        "id": "yA5S2zJc8Zfl"
      }
    },
    {
      "cell_type": "markdown",
      "source": [
        "This is block of code is same as the one below"
      ],
      "metadata": {
        "id": "e2WyxsJ-BRge"
      }
    },
    {
      "cell_type": "code",
      "source": [
        "a = 2\n",
        "b = 3\n",
        "print(a + b)"
      ],
      "metadata": {
        "id": "61laRT8CBQc1",
        "colab": {
          "base_uri": "https://localhost:8080/"
        },
        "outputId": "6739712b-aa9c-4c4b-e6f4-49e00fc50383"
      },
      "execution_count": null,
      "outputs": [
        {
          "output_type": "stream",
          "name": "stdout",
          "text": [
            "5\n"
          ]
        }
      ]
    },
    {
      "cell_type": "markdown",
      "source": [
        "Why do we need functions in the first place?\n",
        "Let's say you want to check if a number is even or odd"
      ],
      "metadata": {
        "id": "-0O3s3FQBEqI"
      }
    },
    {
      "cell_type": "code",
      "source": [
        "def odd_even(num):\n",
        "  if num % 2 == 0:\n",
        "    return 'Even'\n",
        "  else:\n",
        "    return 'Odd'"
      ],
      "metadata": {
        "id": "XlTKH-fhBDl1"
      },
      "execution_count": null,
      "outputs": []
    },
    {
      "cell_type": "code",
      "source": [
        "print(odd_even(4))\n",
        "print(odd_even(6))\n",
        "print(odd_even(5))"
      ],
      "metadata": {
        "id": "lUXNVVvb8jao",
        "colab": {
          "base_uri": "https://localhost:8080/"
        },
        "outputId": "900b1faf-135b-470c-d684-0753642e59f9"
      },
      "execution_count": null,
      "outputs": [
        {
          "output_type": "stream",
          "name": "stdout",
          "text": [
            "Even\n",
            "Even\n",
            "Odd\n"
          ]
        }
      ]
    },
    {
      "cell_type": "markdown",
      "source": [
        "without functions:\n"
      ],
      "metadata": {
        "id": "iGXA7p8WD-xs"
      }
    },
    {
      "cell_type": "code",
      "source": [
        "num = 4\n",
        "if num % 2 == 0:\n",
        "    print('Even')\n",
        "else:\n",
        "    print('Odd')\n",
        "\n",
        "num = 6\n",
        "if num % 2 == 0:\n",
        "    print('Even')\n",
        "else:\n",
        "    print('Odd')\n",
        "\n",
        "num = 5\n",
        "if num % 2 == 0:\n",
        "    print('Even')\n",
        "else:\n",
        "    print('Odd')"
      ],
      "metadata": {
        "id": "mjI0mkw4EDU2",
        "colab": {
          "base_uri": "https://localhost:8080/"
        },
        "outputId": "fe3fbd92-34e9-4690-8a23-2e89b6aac7ba"
      },
      "execution_count": null,
      "outputs": [
        {
          "output_type": "stream",
          "name": "stdout",
          "text": [
            "Even\n",
            "Even\n",
            "Odd\n"
          ]
        }
      ]
    },
    {
      "cell_type": "markdown",
      "source": [
        "## Classes\n",
        "\n",
        "A class is a blueprint for an object.\n",
        "\n",
        "It is a way to bundle data (even of different data types) together.\n",
        "Each variable or piece of data is known as an attribute of the class.\n",
        "\n",
        "In addition, a class can have functions associated with it called methods.\n",
        "\n",
        "An object is an instance of a class. This is similar to how the variable \"num\" was an integer in the previous example.\n"
      ],
      "metadata": {
        "id": "-P8c_GVTXoc9"
      }
    },
    {
      "cell_type": "code",
      "source": [
        "# example class\n",
        "\n",
        "class Pen:\n",
        "  # class variable: shared by all instances of a class\n",
        "  Type = \"ball point\"\n",
        "  color = \"blue\"\n",
        "  price = \"100\"\n",
        "\n",
        "  # member function/ method\n",
        "  def writing(self):\n",
        "    print('write')\n",
        "\n",
        "\n",
        "c1 = Pen()        # creating an instance of pen\n",
        "c1.writing()"
      ],
      "metadata": {
        "id": "6fyx2vLoYN7O",
        "colab": {
          "base_uri": "https://localhost:8080/"
        },
        "outputId": "e422aed1-29f3-4145-d804-eb22d46aa8e0"
      },
      "execution_count": null,
      "outputs": [
        {
          "output_type": "stream",
          "name": "stdout",
          "text": [
            "write\n"
          ]
        }
      ]
    },
    {
      "cell_type": "markdown",
      "source": [
        "### self\n",
        "* class methods must include an extra first parameter in the method definition\n",
        "\n",
        "* we don't give assign values for this parameter when we call the method, instead Python provides it\n",
        "\n",
        "* if we have a method that takes no arguments, then we still have to have one argument.\n",
        "\n",
        "* self is similar to this pointer in C++ and this reference in Java"
      ],
      "metadata": {
        "id": "DXiGAKsCZCig"
      }
    },
    {
      "cell_type": "markdown",
      "source": [
        "### \\_init_()\n",
        "\n",
        "* The \\__init__ method is similar to constructors in C++ and Java\n",
        "\n",
        "* constructors are used to initialize the object’s state\n",
        "\n",
        "* like other methods, a constructor also contains a collection of statements that are executed at the time of object creation\n"
      ],
      "metadata": {
        "id": "ZXq8e0stac-L"
      }
    },
    {
      "cell_type": "code",
      "source": [
        "class Vehicle:\n",
        "\n",
        "    # class variable: shared by all instances of a class\n",
        "    vehicle_type = 'car'\n",
        "\n",
        "    # init method or constructor\n",
        "    def __init__(self, company1, color1):\n",
        "\n",
        "        # instance variables\n",
        "\n",
        "        self.company = company1\n",
        "        self.color = color1\n",
        "\n",
        "    # method to display details\n",
        "    def printing(self):\n",
        "        print('Vehicle type: ', self.vehicle_type)\n",
        "        print('company: ', self.company)\n",
        "        print('color: ', self.color)\n",
        "\n",
        "\n",
        "\n",
        "C1 = Vehicle(\"Ferrari\", \"red\")\n",
        "C2 = Vehicle(\"Mercedes\", \"gold\")\n",
        "\n",
        "# displays details of C1\n",
        "print('C1 details: ', end = '')\n",
        "C1.printing()\n",
        "\n",
        "# accessing using class names\n",
        "print(\"\\naccessing class variable using class name\")\n",
        "print(C1.color)\n",
        "print(C2.company)"
      ],
      "metadata": {
        "id": "lEcdPJOVaxwy",
        "colab": {
          "base_uri": "https://localhost:8080/"
        },
        "outputId": "f368c0f2-039d-497e-906b-63c8058c0ca5"
      },
      "execution_count": null,
      "outputs": [
        {
          "output_type": "stream",
          "name": "stdout",
          "text": [
            "C1 details: Vehicle type:  car\n",
            "company:  Ferrari\n",
            "color:  red\n",
            "\n",
            "accessing class variable using class name\n",
            "red\n",
            "Mercedes\n"
          ]
        }
      ]
    },
    {
      "cell_type": "markdown",
      "source": [
        "##Inheritance\n",
        "\n",
        "Inheritance is the capability of one class to derive or inherit the properties from another class."
      ],
      "metadata": {
        "id": "3cL9o_Hab1uC"
      }
    },
    {
      "cell_type": "code",
      "source": [
        "class company:\n",
        "  def __init__(self):\n",
        "    self.ceo = \"mr X\"\n",
        "    self.company_name = \"ABC\"\n",
        "\n",
        "  def show(self):\n",
        "    print(f\"Company : {self.company_name}\")\n",
        "    print(f\"CEO : {self.ceo}\")\n",
        "\n",
        "class Salesemployee(company):\n",
        "   def __init__(self,name):\n",
        "     company.__init__(self)\n",
        "     self.name = name\n",
        "     self.salary = \"20000\"\n",
        "\n",
        "   def printsalary(self):\n",
        "     print(f\"Salary:{self.salary}\")\n",
        "\n",
        "class Serviceemployee(company):\n",
        "   def __init__(self,name,branch_name):\n",
        "     company.__init__(self)\n",
        "     self.branch_name  = branch_name\n",
        "\n",
        "   def branch(self):\n",
        "\n",
        "     print(f\"Branch:{self.branch_name}\")\n",
        "\n",
        "emp1 = Salesemployee(\"mr A\")\n",
        "emp1.show()\n",
        "emp1.printsalary()\n",
        "\n",
        "print(\"\\n\")\n",
        "\n",
        "emp2 = Serviceemployee(\"mr B\",\"Delhi\")\n",
        "emp2.show()\n",
        "emp2.branch()"
      ],
      "metadata": {
        "id": "y6_5HvqbcLdU",
        "colab": {
          "base_uri": "https://localhost:8080/"
        },
        "outputId": "b88e432d-dc3d-4e37-a078-a1eaaf2da660"
      },
      "execution_count": null,
      "outputs": [
        {
          "output_type": "stream",
          "name": "stdout",
          "text": [
            "Company : ABC\n",
            "CEO : mr X\n",
            "Salary:20000\n",
            "\n",
            "\n",
            "Company : ABC\n",
            "CEO : mr X\n",
            "Branch:Delhi\n"
          ]
        }
      ]
    },
    {
      "cell_type": "code",
      "source": [],
      "metadata": {
        "id": "Nqj-Ikqubgxw"
      },
      "execution_count": null,
      "outputs": []
    }
  ]
}