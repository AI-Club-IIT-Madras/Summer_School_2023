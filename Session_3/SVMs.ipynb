{
  "nbformat": 4,
  "nbformat_minor": 0,
  "metadata": {
    "colab": {
      "provenance": [],
      "gpuType": "T4"
    },
    "kernelspec": {
      "name": "python3",
      "display_name": "Python 3"
    },
    "language_info": {
      "name": "python"
    }
  },
  "cells": [
    {
      "cell_type": "code",
      "execution_count": null,
      "metadata": {
        "colab": {
          "base_uri": "https://localhost:8080/",
          "height": 35
        },
        "id": "dRpN2-r0Opa4",
        "outputId": "44a5e44c-77d6-47d4-a444-17ffc23c2abc"
      },
      "outputs": [
        {
          "output_type": "execute_result",
          "data": {
            "text/plain": [
              "'# Here We are importing Iris dataset\\nfrom google.colab import files\\nuploaded = files.upload()'"
            ],
            "application/vnd.google.colaboratory.intrinsic+json": {
              "type": "string"
            }
          },
          "metadata": {},
          "execution_count": 5
        }
      ],
      "source": [
        "'''# Here We are importing Iris dataset\n",
        "from google.colab import files\n",
        "uploaded = files.upload()'''"
      ]
    },
    {
      "cell_type": "markdown",
      "source": [
        "Here we are going to implement the SVM Model . SVM is a powerful model as well as time expensive . It can be used a classifier as well as a regressor. Here we are going to use it as a classifier.\n",
        "\n",
        "Before going into staright implementation , lets talk about the iris dataset and intuition and math behind SVM."
      ],
      "metadata": {
        "id": "zk1OyPREgIGR"
      }
    },
    {
      "cell_type": "code",
      "source": [
        "import pandas as pd\n",
        "import numpy as np\n",
        "# Data preprocessors\n",
        "from sklearn.utils import shuffle\n",
        "from sklearn.model_selection import train_test_split\n",
        "from sklearn.preprocessing import StandardScaler\n",
        "# Model Imports\n",
        "from sklearn.svm import SVC\n",
        "# plotting tools\n",
        "from matplotlib import pyplot as plt"
      ],
      "metadata": {
        "id": "50sDRx3TXqoI"
      },
      "execution_count": null,
      "outputs": []
    },
    {
      "cell_type": "markdown",
      "source": [
        "Iris Dataset contains 3 types of flowers namely 'Iris-Setosa' , 'Iris-Versicolor' and 'Iris-Virginica'\n",
        "\n",
        "![Iris flowers.jpg](data:image/jpeg;base64,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)\n",
        "\n",
        "This dataset have four features namely 'SepalWidthCm', 'PetalWidthcm' ,'SepalLengthcm' , 'PetalLengthcm'. However here we are going to use two features sepal and petal length and we are going to drop sepal and petal width. We are going to use only two features because it is easy to visualize the Hyperplane. And we are going to make classification between only two flowers again because easy visualization."
      ],
      "metadata": {
        "id": "-CS0N1wxc2MV"
      }
    },
    {
      "cell_type": "code",
      "source": [
        "# first 100 contains two flowers , so we are going to use only first 100 rows.\n",
        "data = pd.read_csv('Iris.csv')\n",
        "data = data[:100]\n",
        "data = data.drop(['SepalWidthCm','PetalWidthCm'],axis=1)"
      ],
      "metadata": {
        "id": "xCN4BVC7ZgEs"
      },
      "execution_count": null,
      "outputs": []
    },
    {
      "cell_type": "code",
      "source": [
        "print(data.head(),'\\n')\n",
        "print(data.tail(),'\\n \\n') # checking our data here\n",
        "print(data.info())"
      ],
      "metadata": {
        "colab": {
          "base_uri": "https://localhost:8080/"
        },
        "id": "fZ_dOAyUmOnM",
        "outputId": "0a5af050-9acb-4469-e80e-946b57944867"
      },
      "execution_count": null,
      "outputs": [
        {
          "output_type": "stream",
          "name": "stdout",
          "text": [
            "   Id  SepalLengthCm  PetalLengthCm      Species\n",
            "0   1            5.1            1.4  Iris-setosa\n",
            "1   2            4.9            1.4  Iris-setosa\n",
            "2   3            4.7            1.3  Iris-setosa\n",
            "3   4            4.6            1.5  Iris-setosa\n",
            "4   5            5.0            1.4  Iris-setosa \n",
            "\n",
            "     Id  SepalLengthCm  PetalLengthCm          Species\n",
            "95   96            5.7            4.2  Iris-versicolor\n",
            "96   97            5.7            4.2  Iris-versicolor\n",
            "97   98            6.2            4.3  Iris-versicolor\n",
            "98   99            5.1            3.0  Iris-versicolor\n",
            "99  100            5.7            4.1  Iris-versicolor \n",
            " \n",
            "\n",
            "<class 'pandas.core.frame.DataFrame'>\n",
            "RangeIndex: 100 entries, 0 to 99\n",
            "Data columns (total 4 columns):\n",
            " #   Column         Non-Null Count  Dtype  \n",
            "---  ------         --------------  -----  \n",
            " 0   Id             100 non-null    int64  \n",
            " 1   SepalLengthCm  100 non-null    float64\n",
            " 2   PetalLengthCm  100 non-null    float64\n",
            " 3   Species        100 non-null    object \n",
            "dtypes: float64(2), int64(1), object(1)\n",
            "memory usage: 3.2+ KB\n",
            "None\n"
          ]
        }
      ]
    },
    {
      "cell_type": "code",
      "source": [
        "# extracting our required data:\n",
        "\n",
        "target = np.array(data['Species'].apply(lambda x: 1 if x==\"Iris-setosa\" else -1)) # here extracting the target values and assiging 1 to iris-setosa and -1 to versicolor\n",
        "sepal = np.array(data['SepalLengthCm'])\n",
        "petal = np.array(data['PetalLengthCm'])\n",
        "X = np.transpose([sepal,petal])  #transpose to make them paired , used later to create train and test data\n",
        "verification_data = np.transpose([sepal,petal,target]) # will be used later\n",
        "print(f' shape of Xdata {X.shape}') # checking the shape\n",
        "\n",
        "# Plotting the data:\n",
        "\n",
        "plt.scatter(sepal[target == 1],petal[target == 1],marker='+',color='green',label=\"setosa\")\n",
        "plt.scatter(sepal[target != 1],petal[target != 1],marker='o',color='orange',label=\"veriscolor\")\n",
        "plt.legend(loc='best')"
      ],
      "metadata": {
        "id": "0x9cvi6HnGF8",
        "colab": {
          "base_uri": "https://localhost:8080/",
          "height": 465
        },
        "outputId": "f0dc1d48-3551-4c8f-9e6d-92a715b994e5"
      },
      "execution_count": null,
      "outputs": [
        {
          "output_type": "stream",
          "name": "stdout",
          "text": [
            " shape of Xdata (100, 2)\n"
          ]
        },
        {
          "output_type": "execute_result",
          "data": {
            "text/plain": [
              "<matplotlib.legend.Legend at 0x7f1131fdcbe0>"
            ]
          },
          "metadata": {},
          "execution_count": 9
        },
        {
          "output_type": "display_data",
          "data": {
            "text/plain": [
              "<Figure size 640x480 with 1 Axes>"
            ],
            "image/png": "[encoded data removed]"
          },
          "metadata": {}
        }
      ]
    },
    {
      "cell_type": "markdown",
      "source": [
        "# Implementation of Linear SVM Using SKLearn"
      ],
      "metadata": {
        "id": "FTTjM8LtuN8l"
      }
    },
    {
      "cell_type": "code",
      "source": [
        "# Implementation of SVM using SKlearn\n",
        "\n",
        "X,Y = shuffle(X,target,random_state=42) # shuffling the dataset , so it can learn better\n",
        "x_train , x_test , y_train ,y_test = train_test_split(X, Y, train_size=0.90)\n",
        "print(\"Train Shape\",x_train.shape)"
      ],
      "metadata": {
        "colab": {
          "base_uri": "https://localhost:8080/"
        },
        "id": "jXPthZJJSe-J",
        "outputId": "e76d6f16-f6b6-43da-ef95-70ab659031b7"
      },
      "execution_count": null,
      "outputs": [
        {
          "output_type": "stream",
          "name": "stdout",
          "text": [
            "Train Shape (90, 2)\n"
          ]
        }
      ]
    },
    {
      "cell_type": "code",
      "source": [
        "from sklearn.svm import SVC\n",
        "from sklearn.metrics import accuracy_score\n",
        "\n",
        "clf = SVC(kernel='linear', probability=True)\n",
        "clf.fit(x_train,y_train)\n",
        "y_pred = clf.predict(x_test)\n",
        "print(f' accuracy = {accuracy_score(y_test,y_pred)} ')\n",
        "print(f' coefficients of the class variables = {clf.coef_} ')\n",
        "print(' intercept  = ',clf.intercept_)\n",
        "w1,w2 = clf.coef_[0][0] , clf.coef_[0][1]\n",
        "c = clf.intercept_"
      ],
      "metadata": {
        "colab": {
          "base_uri": "https://localhost:8080/"
        },
        "outputId": "5055288f-41c2-42cb-da25-c03ee8537a7e",
        "id": "R_i5bgNbtmFQ"
      },
      "execution_count": null,
      "outputs": [
        {
          "output_type": "stream",
          "name": "stdout",
          "text": [
            " accuracy = 1.0 \n",
            " coefficients of the class variables = [[-0.02335033 -1.42690456]] \n",
            " intercept  =  [3.82320082]\n"
          ]
        }
      ]
    },
    {
      "cell_type": "code",
      "source": [
        "print(f' y = mx + c format ; m = {-w1/w2} , c = {- c/w2}')\n",
        "\n",
        "# plotting the data to visualize the results :\n",
        "\n",
        "plt.scatter(sepal[target == 1],petal[target == 1],marker='+',color='green',label=\"setosa\")\n",
        "plt.scatter(sepal[target != 1],petal[target != 1],marker='o',color='orange',label=\"veriscolor\")\n",
        "x = x_train[:,0]\n",
        "y = -w1*x_train[:,0]/w2 - c/w2\n",
        "plt.plot(x,y,color='red')\n",
        "plt.legend(loc='best')"
      ],
      "metadata": {
        "colab": {
          "base_uri": "https://localhost:8080/",
          "height": 465
        },
        "outputId": "132662fd-f61d-4048-9dae-5b224bf360ae",
        "id": "fAN4Uhw7tpvh"
      },
      "execution_count": null,
      "outputs": [
        {
          "output_type": "stream",
          "name": "stdout",
          "text": [
            " y = mx + c format ; m = -0.01636432209883241 , c = [2.67936688]\n"
          ]
        },
        {
          "output_type": "execute_result",
          "data": {
            "text/plain": [
              "<matplotlib.legend.Legend at 0x7f1132083d90>"
            ]
          },
          "metadata": {},
          "execution_count": 12
        },
        {
          "output_type": "display_data",
          "data": {
            "text/plain": [
              "<Figure size 640x480 with 1 Axes>"
            ],
            "image/png": "[encoded data removed]"
          },
          "metadata": {}
        }
      ]
    },
    {
      "cell_type": "code",
      "source": [
        "df = pd.read_csv('Sleep_health_and_lifestyle_dataset.csv')\n",
        "df = df.drop(['Person ID','Gender','Occupation','Physical Activity Level',\n",
        "              'BMI Category','Blood Pressure','Heart Rate','Daily Steps','Stress Level','Age'],axis=1)\n",
        "df.dropna()\n",
        "df"
      ],
      "metadata": {
        "colab": {
          "base_uri": "https://localhost:8080/",
          "height": 424
        },
        "id": "K2dnWqNxP2YU",
        "outputId": "b8111d1f-3ef7-4f38-838b-8f7e2d1ec638"
      },
      "execution_count": null,
      "outputs": [
        {
          "output_type": "execute_result",
          "data": {
            "text/plain": [
              "     Sleep Duration  Quality of Sleep Sleep Disorder\n",
              "0               6.1                 6           None\n",
              "1               6.2                 6           None\n",
              "2               6.2                 6           None\n",
              "3               5.9                 4    Sleep Apnea\n",
              "4               5.9                 4    Sleep Apnea\n",
              "..              ...               ...            ...\n",
              "369             8.1                 9    Sleep Apnea\n",
              "370             8.0                 9    Sleep Apnea\n",
              "371             8.1                 9    Sleep Apnea\n",
              "372             8.1                 9    Sleep Apnea\n",
              "373             8.1                 9    Sleep Apnea\n",
              "\n",
              "[374 rows x 3 columns]"
            ],
            "text/html": [
              "\n",
              "\n",
              "  <div id=\"df-35eb314e-4db4-49c0-a414-b252cec32f73\">\n",
              "    <div class=\"colab-df-container\">\n",
              "      <div>\n",
              "<style scoped>\n",
              "    .dataframe tbody tr th:only-of-type {\n",
              "        vertical-align: middle;\n",
              "    }\n",
              "\n",
              "    .dataframe tbody tr th {\n",
              "        vertical-align: top;\n",
              "    }\n",
              "\n",
              "    .dataframe thead th {\n",
              "        text-align: right;\n",
              "    }\n",
              "</style>\n",
              "<table border=\"1\" class=\"dataframe\">\n",
              "  <thead>\n",
              "    <tr style=\"text-align: right;\">\n",
              "      <th></th>\n",
              "      <th>Sleep Duration</th>\n",
              "      <th>Quality of Sleep</th>\n",
              "      <th>Sleep Disorder</th>\n",
              "    </tr>\n",
              "  </thead>\n",
              "  <tbody>\n",
              "    <tr>\n",
              "      <th>0</th>\n",
              "      <td>6.1</td>\n",
              "      <td>6</td>\n",
              "      <td>None</td>\n",
              "    </tr>\n",
              "    <tr>\n",
              "      <th>1</th>\n",
              "      <td>6.2</td>\n",
              "      <td>6</td>\n",
              "      <td>None</td>\n",
              "    </tr>\n",
              "    <tr>\n",
              "      <th>2</th>\n",
              "      <td>6.2</td>\n",
              "      <td>6</td>\n",
              "      <td>None</td>\n",
              "    </tr>\n",
              "    <tr>\n",
              "      <th>3</th>\n",
              "      <td>5.9</td>\n",
              "      <td>4</td>\n",
              "      <td>Sleep Apnea</td>\n",
              "    </tr>\n",
              "    <tr>\n",
              "      <th>4</th>\n",
              "      <td>5.9</td>\n",
              "      <td>4</td>\n",
              "      <td>Sleep Apnea</td>\n",
              "    </tr>\n",
              "    <tr>\n",
              "      <th>...</th>\n",
              "      <td>...</td>\n",
              "      <td>...</td>\n",
              "      <td>...</td>\n",
              "    </tr>\n",
              "    <tr>\n",
              "      <th>369</th>\n",
              "      <td>8.1</td>\n",
              "      <td>9</td>\n",
              "      <td>Sleep Apnea</td>\n",
              "    </tr>\n",
              "    <tr>\n",
              "      <th>370</th>\n",
              "      <td>8.0</td>\n",
              "      <td>9</td>\n",
              "      <td>Sleep Apnea</td>\n",
              "    </tr>\n",
              "    <tr>\n",
              "      <th>371</th>\n",
              "      <td>8.1</td>\n",
              "      <td>9</td>\n",
              "      <td>Sleep Apnea</td>\n",
              "    </tr>\n",
              "    <tr>\n",
              "      <th>372</th>\n",
              "      <td>8.1</td>\n",
              "      <td>9</td>\n",
              "      <td>Sleep Apnea</td>\n",
              "    </tr>\n",
              "    <tr>\n",
              "      <th>373</th>\n",
              "      <td>8.1</td>\n",
              "      <td>9</td>\n",
              "      <td>Sleep Apnea</td>\n",
              "    </tr>\n",
              "  </tbody>\n",
              "</table>\n",
              "<p>374 rows × 3 columns</p>\n",
              "</div>\n",
              "      <button class=\"colab-df-convert\" onclick=\"convertToInteractive('df-35eb314e-4db4-49c0-a414-b252cec32f73')\"\n",
              "              title=\"Convert this dataframe to an interactive table.\"\n",
              "              style=\"display:none;\">\n",
              "\n",
              "  <svg xmlns=\"http://www.w3.org/2000/svg\" height=\"24px\"viewBox=\"0 0 24 24\"\n",
              "       width=\"24px\">\n",
              "    <path d=\"M0 0h24v24H0V0z\" fill=\"none\"/>\n",
              "    <path d=\"M18.56 5.44l.94 2.06.94-2.06 2.06-.94-2.06-.94-.94-2.06-.94 2.06-2.06.94zm-11 1L8.5 8.5l.94-2.06 2.06-.94-2.06-.94L8.5 2.5l-.94 2.06-2.06.94zm10 10l.94 2.06.94-2.06 2.06-.94-2.06-.94-.94-2.06-.94 2.06-2.06.94z\"/><path d=\"M17.41 7.96l-1.37-1.37c-.4-.4-.92-.59-1.43-.59-.52 0-1.04.2-1.43.59L10.3 9.45l-7.72 7.72c-.78.78-.78 2.05 0 2.83L4 21.41c.39.39.9.59 1.41.59.51 0 1.02-.2 1.41-.59l7.78-7.78 2.81-2.81c.8-.78.8-2.07 0-2.86zM5.41 20L4 18.59l7.72-7.72 1.47 1.35L5.41 20z\"/>\n",
              "  </svg>\n",
              "      </button>\n",
              "\n",
              "\n",
              "\n",
              "    <div id=\"df-c513deb6-02e2-42c5-8e79-c9ebefd1fd8d\">\n",
              "      <button class=\"colab-df-quickchart\" onclick=\"quickchart('df-c513deb6-02e2-42c5-8e79-c9ebefd1fd8d')\"\n",
              "              title=\"Suggest charts.\"\n",
              "              style=\"display:none;\">\n",
              "\n",
              "<svg xmlns=\"http://www.w3.org/2000/svg\" height=\"24px\"viewBox=\"0 0 24 24\"\n",
              "     width=\"24px\">\n",
              "    <g>\n",
              "        <path d=\"M19 3H5c-1.1 0-2 .9-2 2v14c0 1.1.9 2 2 2h14c1.1 0 2-.9 2-2V5c0-1.1-.9-2-2-2zM9 17H7v-7h2v7zm4 0h-2V7h2v10zm4 0h-2v-4h2v4z\"/>\n",
              "    </g>\n",
              "</svg>\n",
              "      </button>\n",
              "    </div>\n",
              "\n",
              "<style>\n",
              "  .colab-df-quickchart {\n",
              "    background-color: #E8F0FE;\n",
              "    border: none;\n",
              "    border-radius: 50%;\n",
              "    cursor: pointer;\n",
              "    display: none;\n",
              "    fill: #1967D2;\n",
              "    height: 32px;\n",
              "    padding: 0 0 0 0;\n",
              "    width: 32px;\n",
              "  }\n",
              "\n",
              "  .colab-df-quickchart:hover {\n",
              "    background-color: #E2EBFA;\n",
              "    box-shadow: 0px 1px 2px rgba(60, 64, 67, 0.3), 0px 1px 3px 1px rgba(60, 64, 67, 0.15);\n",
              "    fill: #174EA6;\n",
              "  }\n",
              "\n",
              "  [theme=dark] .colab-df-quickchart {\n",
              "    background-color: #3B4455;\n",
              "    fill: #D2E3FC;\n",
              "  }\n",
              "\n",
              "  [theme=dark] .colab-df-quickchart:hover {\n",
              "    background-color: #434B5C;\n",
              "    box-shadow: 0px 1px 3px 1px rgba(0, 0, 0, 0.15);\n",
              "    filter: drop-shadow(0px 1px 2px rgba(0, 0, 0, 0.3));\n",
              "    fill: #FFFFFF;\n",
              "  }\n",
              "</style>\n",
              "\n",
              "    <script>\n",
              "      async function quickchart(key) {\n",
              "        const containerElement = document.querySelector('#' + key);\n",
              "        const charts = await google.colab.kernel.invokeFunction(\n",
              "            'suggestCharts', [key], {});\n",
              "      }\n",
              "    </script>\n",
              "\n",
              "      <script>\n",
              "\n",
              "function displayQuickchartButton(domScope) {\n",
              "  let quickchartButtonEl =\n",
              "    domScope.querySelector('#df-c513deb6-02e2-42c5-8e79-c9ebefd1fd8d button.colab-df-quickchart');\n",
              "  quickchartButtonEl.style.display =\n",
              "    google.colab.kernel.accessAllowed ? 'block' : 'none';\n",
              "}\n",
              "\n",
              "        displayQuickchartButton(document);\n",
              "      </script>\n",
              "      <style>\n",
              "    .colab-df-container {\n",
              "      display:flex;\n",
              "      flex-wrap:wrap;\n",
              "      gap: 12px;\n",
              "    }\n",
              "\n",
              "    .colab-df-convert {\n",
              "      background-color: #E8F0FE;\n",
              "      border: none;\n",
              "      border-radius: 50%;\n",
              "      cursor: pointer;\n",
              "      display: none;\n",
              "      fill: #1967D2;\n",
              "      height: 32px;\n",
              "      padding: 0 0 0 0;\n",
              "      width: 32px;\n",
              "    }\n",
              "\n",
              "    .colab-df-convert:hover {\n",
              "      background-color: #E2EBFA;\n",
              "      box-shadow: 0px 1px 2px rgba(60, 64, 67, 0.3), 0px 1px 3px 1px rgba(60, 64, 67, 0.15);\n",
              "      fill: #174EA6;\n",
              "    }\n",
              "\n",
              "    [theme=dark] .colab-df-convert {\n",
              "      background-color: #3B4455;\n",
              "      fill: #D2E3FC;\n",
              "    }\n",
              "\n",
              "    [theme=dark] .colab-df-convert:hover {\n",
              "      background-color: #434B5C;\n",
              "      box-shadow: 0px 1px 3px 1px rgba(0, 0, 0, 0.15);\n",
              "      filter: drop-shadow(0px 1px 2px rgba(0, 0, 0, 0.3));\n",
              "      fill: #FFFFFF;\n",
              "    }\n",
              "  </style>\n",
              "\n",
              "      <script>\n",
              "        const buttonEl =\n",
              "          document.querySelector('#df-35eb314e-4db4-49c0-a414-b252cec32f73 button.colab-df-convert');\n",
              "        buttonEl.style.display =\n",
              "          google.colab.kernel.accessAllowed ? 'block' : 'none';\n",
              "\n",
              "        async function convertToInteractive(key) {\n",
              "          const element = document.querySelector('#df-35eb314e-4db4-49c0-a414-b252cec32f73');\n",
              "          const dataTable =\n",
              "            await google.colab.kernel.invokeFunction('convertToInteractive',\n",
              "                                                     [key], {});\n",
              "          if (!dataTable) return;\n",
              "\n",
              "          const docLinkHtml = 'Like what you see? Visit the ' +\n",
              "            '<a target=\"_blank\" href=https://colab.research.google.com/notebooks/data_table.ipynb>data table notebook</a>'\n",
              "            + ' to learn more about interactive tables.';\n",
              "          element.innerHTML = '';\n",
              "          dataTable['output_type'] = 'display_data';\n",
              "          await google.colab.output.renderOutput(dataTable, element);\n",
              "          const docLink = document.createElement('div');\n",
              "          docLink.innerHTML = docLinkHtml;\n",
              "          element.appendChild(docLink);\n",
              "        }\n",
              "      </script>\n",
              "    </div>\n",
              "  </div>\n"
            ]
          },
          "metadata": {},
          "execution_count": 15
        }
      ]
    },
    {
      "cell_type": "code",
      "source": [
        "# extracting our required data:\n",
        "\n",
        "target = np.array(df['Sleep Disorder'].apply(lambda x: -1 if x==\"None\" else 1)) # here extracting the target values and assiging 1 to iris-setosa and -1 to versicolor\n",
        "quality = np.array(df['Quality of Sleep'])\n",
        "duration = np.array(df['Sleep Duration'])\n",
        "X = np.transpose([duration,quality])  #transpose to make them paired , used later to create train and test data\n",
        "verification_data = np.transpose([duration,quality,target]) # will be used later\n",
        "print(f' shape of Xdata {X.shape}') # checking the shape\n",
        "\n",
        "# Plotting the data:\n",
        "\n",
        "plt.xlabel('Sleep Duration')\n",
        "plt.ylabel('Quality of Sleep')\n",
        "plt.title('Scatter Plot of Sleeping Disorder vs. No Sleeping Disorder')\n",
        "plt.scatter(duration[target == -1], quality[target == -1], label='No Sleeping Disorder')\n",
        "plt.scatter(duration[target != -1], quality[target != -1], label='Sleeping Disorder')\n",
        "plt.legend(loc='best')"
      ],
      "metadata": {
        "colab": {
          "base_uri": "https://localhost:8080/",
          "height": 507
        },
        "id": "whLuLzTRRtkO",
        "outputId": "7b70bbe6-b14d-4a79-f43d-b829132cc0c8"
      },
      "execution_count": null,
      "outputs": [
        {
          "output_type": "stream",
          "name": "stdout",
          "text": [
            " shape of Xdata (374, 2)\n"
          ]
        },
        {
          "output_type": "execute_result",
          "data": {
            "text/plain": [
              "<matplotlib.legend.Legend at 0x7f112fbcc580>"
            ]
          },
          "metadata": {},
          "execution_count": 16
        },
        {
          "output_type": "display_data",
          "data": {
            "text/plain": [
              "<Figure size 640x480 with 1 Axes>"
            ],
            "image/png": "[encoded data removed]"
          },
          "metadata": {}
        }
      ]
    },
    {
      "cell_type": "code",
      "source": [
        "# Implementation of SVM using SKlearn\n",
        "\n",
        "X,Y = shuffle(X,target,random_state=42) # shuffling the dataset , so it can learn better\n",
        "x_train , x_test , y_train ,y_test = train_test_split(X, Y, train_size=0.80)\n",
        "print(\"Train Shape\",x_train.shape)"
      ],
      "metadata": {
        "colab": {
          "base_uri": "https://localhost:8080/"
        },
        "id": "t28JHWLjb15q",
        "outputId": "2a1a4d73-3f59-440d-9fce-e1ab3d5e3601"
      },
      "execution_count": null,
      "outputs": [
        {
          "output_type": "stream",
          "name": "stdout",
          "text": [
            "Train Shape (299, 2)\n"
          ]
        }
      ]
    },
    {
      "cell_type": "markdown",
      "source": [
        "# Implementation of SVM Using a Polynomial Kernel (SKLearn)"
      ],
      "metadata": {
        "id": "kQ2XhejgwPnR"
      }
    },
    {
      "cell_type": "code",
      "source": [
        "deg = [1,2,3,4,5]\n",
        "acc = []\n",
        "for i in deg:\n",
        "  clf = SVC(kernel='poly',degree = i,coef0=0.0, probability=True)\n",
        "  clf.fit(x_train,y_train)\n",
        "  y_pred = clf.predict(x_test)\n",
        "  acc.append(accuracy_score(y_test,y_pred))\n",
        "  clf = None\n",
        "print(f'Degree array {deg}')\n",
        "print(f'Accuracy array {acc}')\n"
      ],
      "metadata": {
        "id": "vLsfbYO5bvlQ",
        "colab": {
          "base_uri": "https://localhost:8080/"
        },
        "outputId": "ffa9879a-7363-4e37-bcd7-f92ca81eeab3"
      },
      "execution_count": null,
      "outputs": [
        {
          "output_type": "stream",
          "name": "stdout",
          "text": [
            "Degree array [1, 2, 3, 4, 5]\n",
            "Accuracy array [0.7333333333333333, 0.7466666666666667, 0.7733333333333333, 0.5733333333333334, 0.5733333333333334]\n"
          ]
        }
      ]
    },
    {
      "cell_type": "code",
      "source": [
        "plt.plot(deg, acc, 'b-')\n",
        "plt.plot(deg, acc, 'ro')\n",
        "plt.ylabel('Accuracy')\n",
        "plt.xlabel('Degree')\n",
        "plt.show()"
      ],
      "metadata": {
        "id": "MGHRMMryfbjA",
        "colab": {
          "base_uri": "https://localhost:8080/",
          "height": 449
        },
        "outputId": "4b651e5d-2ffe-4022-b0aa-1ed82f2a68ee"
      },
      "execution_count": null,
      "outputs": [
        {
          "output_type": "display_data",
          "data": {
            "text/plain": [
              "<Figure size 640x480 with 1 Axes>"
            ],
            "image/png": "[encoded data removed]"
          },
          "metadata": {}
        }
      ]
    },
    {
      "cell_type": "markdown",
      "source": [
        "# Implementation of SVM Using an RBF Kernel(SKLearn)"
      ],
      "metadata": {
        "id": "hXD82fJbujBW"
      }
    },
    {
      "cell_type": "code",
      "source": [
        "gam = [0.0001,0.001,0.0012,0.0015,0.0016,0.0017,0.1,1,10,100,200,400,1000,10000]\n",
        "acc = []\n",
        "for i in gam:\n",
        "  clf = SVC(kernel='rbf', gamma = i, probability=True)\n",
        "  clf.fit(x_train,y_train)\n",
        "  y_pred = clf.predict(x_test)\n",
        "  acc.append(accuracy_score(y_test,y_pred))\n",
        "  clf = None\n",
        "print(f'Gamma array {gam}')\n",
        "print(f'Accuracy array {acc}')"
      ],
      "metadata": {
        "id": "5DXDN7MjnNPF",
        "colab": {
          "base_uri": "https://localhost:8080/"
        },
        "outputId": "64202fd1-cf45-40e5-c022-60133d734f9a"
      },
      "execution_count": null,
      "outputs": [
        {
          "output_type": "stream",
          "name": "stdout",
          "text": [
            "Gamma array [0.0001, 0.001, 0.0012, 0.0015, 0.0016, 0.0017, 0.1, 1, 10, 100, 200, 400, 1000, 10000]\n",
            "Accuracy array [0.5733333333333334, 0.5733333333333334, 0.5733333333333334, 0.5733333333333334, 0.5733333333333334, 0.5733333333333334, 0.7333333333333333, 0.84, 0.88, 0.9066666666666666, 0.9066666666666666, 0.92, 0.9066666666666666, 0.9066666666666666]\n"
          ]
        }
      ]
    },
    {
      "cell_type": "code",
      "source": [
        "import matplotlib.pyplot as plt\n",
        "plt.plot(gam, acc, 'b-')\n",
        "plt.plot(gam, acc, 'ro')\n",
        "plt.ylabel('Accuracy')\n",
        "plt.xlabel('Gamma')\n",
        "plt.show()"
      ],
      "metadata": {
        "id": "4DBhalionQ05",
        "colab": {
          "base_uri": "https://localhost:8080/",
          "height": 449
        },
        "outputId": "92272cf8-b043-45d4-fb0d-52d9f5b302c6"
      },
      "execution_count": null,
      "outputs": [
        {
          "output_type": "display_data",
          "data": {
            "text/plain": [
              "<Figure size 640x480 with 1 Axes>"
            ],
            "image/png": "[encoded data removed]"
          },
          "metadata": {}
        }
      ]
    }
  ]
}