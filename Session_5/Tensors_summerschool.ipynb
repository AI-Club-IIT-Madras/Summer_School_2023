{
  "nbformat": 4,
  "nbformat_minor": 0,
  "metadata": {
    "colab": {
      "provenance": []
    },
    "kernelspec": {
      "name": "python3",
      "display_name": "Python 3"
    },
    "language_info": {
      "name": "python"
    }
  },
  "cells": [
    {
      "cell_type": "code",
      "execution_count": null,
      "metadata": {
        "id": "y1fpvhbG_Wao"
      },
      "outputs": [],
      "source": [
        "import torch"
      ]
    },
    {
      "cell_type": "code",
      "source": [
        "# we may create tensors from ptyhon lists\n",
        "A = [[6, 9, 2],\n",
        "     [3, 3, 7],\n",
        "     [1, 0, 3]]\n",
        "\n",
        "A_tensor = torch.tensor(A)\n",
        "\n",
        "print(A_tensor)"
      ],
      "metadata": {
        "id": "JW8jL5Fu_zR_",
        "colab": {
          "base_uri": "https://localhost:8080/"
        },
        "outputId": "8a2e1180-5447-40f2-b1b5-b4820d7c3593"
      },
      "execution_count": null,
      "outputs": [
        {
          "output_type": "stream",
          "name": "stdout",
          "text": [
            "tensor([[6, 9, 2],\n",
            "        [3, 3, 7],\n",
            "        [1, 0, 3]])\n"
          ]
        }
      ]
    },
    {
      "cell_type": "code",
      "source": [
        "# or numpy arrays\n",
        "import numpy as np\n",
        "\n",
        "B = np.array([0,1,2,3])\n",
        "B_tensor = torch.tensor(B)\n",
        "\n",
        "print(B_tensor)"
      ],
      "metadata": {
        "colab": {
          "base_uri": "https://localhost:8080/"
        },
        "id": "FwUPuWUAfFaQ",
        "outputId": "0d1bccf3-959f-4f71-ab61-6262ce07ed8c"
      },
      "execution_count": null,
      "outputs": [
        {
          "output_type": "stream",
          "name": "stdout",
          "text": [
            "tensor([0, 1, 2, 3])\n"
          ]
        }
      ]
    },
    {
      "cell_type": "code",
      "source": [
        "# or directly using using the torch.tensor constuctor\n",
        "C_tensor = torch.tensor([[1., -1.], [1., -1.]])\n",
        "\n",
        "print(C_tensor)"
      ],
      "metadata": {
        "colab": {
          "base_uri": "https://localhost:8080/"
        },
        "id": "Dwz18ZrHibr7",
        "outputId": "c6ac5f3a-dd96-4331-a8a1-66aa6fc29894"
      },
      "execution_count": null,
      "outputs": [
        {
          "output_type": "stream",
          "name": "stdout",
          "text": [
            "tensor([[ 1., -1.],\n",
            "        [ 1., -1.]])\n"
          ]
        }
      ]
    },
    {
      "cell_type": "code",
      "source": [
        "# attributes of a tensor:\n",
        "\n",
        "# .dtype\n",
        "print(A_tensor.dtype)  # to know the datatype stored in your tensor\n",
        "\n",
        "# .shape\n",
        "print(A_tensor.shape)  # to know the shape of the tensor i.e. the dimensions\n",
        "\n",
        "# .device\n",
        "print(A_tensor.device) # to know what device the tensor is being computed"
      ],
      "metadata": {
        "colab": {
          "base_uri": "https://localhost:8080/"
        },
        "id": "Rh-Ty_sht9fL",
        "outputId": "db10f51c-eca4-4b97-88ca-03a5a9f309fd"
      },
      "execution_count": null,
      "outputs": [
        {
          "output_type": "stream",
          "name": "stdout",
          "text": [
            "torch.int64\n",
            "torch.Size([3, 3])\n",
            "cpu\n"
          ]
        }
      ]
    },
    {
      "cell_type": "code",
      "source": [
        "# some useful ways to generate tensors\n",
        "\n",
        "zero_tensor = torch.zeros((4,2), requires_grad = True)  # generates a tensor of zeroes\n",
        "print(zero_tensor)\n",
        "\n",
        "one_tensor = torch.ones(4,2) # generates a tensor of ones\n",
        "print(one_tensor)\n",
        "\n",
        "random_tensor = torch.rand(4,2,2) # generates random numbers between 0 and 1\n",
        "print(random_tensor)"
      ],
      "metadata": {
        "colab": {
          "base_uri": "https://localhost:8080/"
        },
        "id": "akYzjruDe-IV",
        "outputId": "206642ab-819f-4824-eef4-026eb6dbe2ef"
      },
      "execution_count": null,
      "outputs": [
        {
          "output_type": "stream",
          "name": "stdout",
          "text": [
            "tensor([[0., 0.],\n",
            "        [0., 0.],\n",
            "        [0., 0.],\n",
            "        [0., 0.]], requires_grad=True)\n",
            "tensor([[1., 1.],\n",
            "        [1., 1.],\n",
            "        [1., 1.],\n",
            "        [1., 1.]])\n",
            "tensor([[[0.9249, 0.0019],\n",
            "         [0.1694, 0.7866]],\n",
            "\n",
            "        [[0.3451, 0.1279],\n",
            "         [0.9052, 0.3376]],\n",
            "\n",
            "        [[0.5508, 0.3298],\n",
            "         [0.7562, 0.3996]],\n",
            "\n",
            "        [[0.3012, 0.8795],\n",
            "         [0.9684, 0.3680]]])\n"
          ]
        }
      ]
    },
    {
      "cell_type": "code",
      "source": [
        "reshaped_tensor = random_tensor.reshape(4,-1) # reshapes the data without losing any of it\n",
        "\n",
        "print(reshaped_tensor.shape)\n",
        "print(reshaped_tensor)"
      ],
      "metadata": {
        "colab": {
          "base_uri": "https://localhost:8080/"
        },
        "id": "-fuuFvakY6u_",
        "outputId": "27b212bb-81c9-48cc-a4fe-6bde11f2dc03"
      },
      "execution_count": null,
      "outputs": [
        {
          "output_type": "stream",
          "name": "stdout",
          "text": [
            "torch.Size([4, 4])\n",
            "tensor([[0.9249, 0.0019, 0.1694, 0.7866],\n",
            "        [0.3451, 0.1279, 0.9052, 0.3376],\n",
            "        [0.5508, 0.3298, 0.7562, 0.3996],\n",
            "        [0.3012, 0.8795, 0.9684, 0.3680]])\n"
          ]
        }
      ]
    },
    {
      "cell_type": "code",
      "source": [
        "problematic_reshaped_tensor = random_tensor.reshape(4,3) # this reshaping is not allowed"
      ],
      "metadata": {
        "id": "rlhxDNCZZ-GT",
        "outputId": "e1147040-7b1c-4806-8748-a23fd9191ac8",
        "colab": {
          "base_uri": "https://localhost:8080/",
          "height": 169
        }
      },
      "execution_count": null,
      "outputs": [
        {
          "output_type": "error",
          "ename": "RuntimeError",
          "evalue": "ignored",
          "traceback": [
            "\u001b[0;31m---------------------------------------------------------------------------\u001b[0m",
            "\u001b[0;31mRuntimeError\u001b[0m                              Traceback (most recent call last)",
            "\u001b[0;32m<ipython-input-12-bb4a8b9c23e3>\u001b[0m in \u001b[0;36m<cell line: 1>\u001b[0;34m()\u001b[0m\n\u001b[0;32m----> 1\u001b[0;31m \u001b[0mproblematic_reshaped_tensor\u001b[0m \u001b[0;34m=\u001b[0m \u001b[0mrandom_tensor\u001b[0m\u001b[0;34m.\u001b[0m\u001b[0mreshape\u001b[0m\u001b[0;34m(\u001b[0m\u001b[0;36m4\u001b[0m\u001b[0;34m,\u001b[0m\u001b[0;36m3\u001b[0m\u001b[0;34m)\u001b[0m \u001b[0;31m# this reshaping is not allowed\u001b[0m\u001b[0;34m\u001b[0m\u001b[0;34m\u001b[0m\u001b[0m\n\u001b[0m",
            "\u001b[0;31mRuntimeError\u001b[0m: shape '[4, 3]' is invalid for input of size 16"
          ]
        }
      ]
    }
  ]
}