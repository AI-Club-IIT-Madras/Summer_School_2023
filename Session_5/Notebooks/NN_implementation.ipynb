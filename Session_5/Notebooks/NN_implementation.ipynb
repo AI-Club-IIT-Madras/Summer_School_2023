{
  "nbformat": 4,
  "nbformat_minor": 0,
  "metadata": {
    "colab": {
      "provenance": []
    },
    "kernelspec": {
      "name": "python3",
      "display_name": "Python 3"
    },
    "language_info": {
      "name": "python"
    }
  },
  "cells": [
    {
      "cell_type": "markdown",
      "source": [
        "##Model demonstrating the working of a neural network\n",
        "\n",
        "This is a network implemented using \"PyTorch\" - an open source library which is used extensively to code up Neural Networks."
      ],
      "metadata": {
        "id": "ghVNfmlpUtXy"
      }
    },
    {
      "cell_type": "code",
      "source": [
        "import torch"
      ],
      "metadata": {
        "id": "pOfSsSw6VY3z"
      },
      "execution_count": null,
      "outputs": []
    },
    {
      "cell_type": "markdown",
      "source": [
        "##Initializing the Parameters of the network\n",
        "\n",
        "As we have discussed, the parameters of the network comprise of the weights and biases. We initialise them randomly using torch.rand."
      ],
      "metadata": {
        "id": "M-TGY82QVZp6"
      }
    },
    {
      "cell_type": "code",
      "source": [
        "#Initializing the Parameters and the Variables\n",
        "# y = a*x + b\n",
        "\n",
        "x = torch.rand((5, 1), requires_grad=False) #Inputs to the network are randomly chosen\n",
        "y = torch.rand((2, 1), requires_grad=False) #true outputs are randomly chosen\n",
        "\n",
        "w1 = torch.rand((3, 5), requires_grad=True)\n",
        "z1 = torch.rand((3, 1), requires_grad=True)\n",
        "\n",
        "w2 = torch.rand((2, 3), requires_grad=True)\n",
        "z2= torch.rand((2, 1), requires_grad=True)\n",
        "\n",
        "w3 = torch.rand((2,2), requires_grad=True)\n",
        "z3 = torch.rand((2,2), requires_grad=True)"
      ],
      "metadata": {
        "id": "PJ4st9JAWrFs"
      },
      "execution_count": null,
      "outputs": []
    },
    {
      "cell_type": "markdown",
      "source": [
        "##Training the Network\n",
        "\n",
        "@ is used for matrix multiplication. A forward pass is shown followed by a backward pass. We then calculate the Mean Square Error (MSE) loss and then use the gradient descent algorithm to find the appropriate weights and biases which decrease the cost.\n",
        "\n",
        "After the second forward pass, you can see that the cost has decreased which is a testament to the working of the gradient descent."
      ],
      "metadata": {
        "id": "DxGeOcDsWt5j"
      }
    },
    {
      "cell_type": "code",
      "execution_count": null,
      "metadata": {
        "colab": {
          "base_uri": "https://localhost:8080/"
        },
        "id": "zGMzsOxSVhxM",
        "outputId": "5753b191-1419-492d-9d8b-4b5eb26f64b7"
      },
      "outputs": [
        {
          "output_type": "stream",
          "name": "stdout",
          "text": [
            "Cost before gradient descent: 1.2479602098464966\n",
            "Cost after one gradient descent step: 1.2184746265411377\n"
          ]
        }
      ],
      "source": [
        "# Forward Pass 1\n",
        "\n",
        "y_3 = w3@(torch.sigmoid(w2@(w1@x + z1) + z2)) + z3\n",
        "\n",
        "# Computing Loss\n",
        "loss = torch.mean((y-y_3)**2)\n",
        "print(\"Cost before gradient descent:\",loss.item())\n",
        "\n",
        "# Back Propogation\n",
        "loss.backward()\n",
        "\n",
        "# Updating Weights and Biases\n",
        "with torch.no_grad():\n",
        "  w1 = w1 - 0.005*w1.grad\n",
        "  z1 = z1 - 0.005*z1.grad\n",
        "  w2 = w2 - 0.005*w2.grad\n",
        "  z2 = z2 - 0.005*z2.grad\n",
        "  w3 = w3 - 0.005*w3.grad\n",
        "  z3 = z3 - 0.005*z3.grad\n",
        "\n",
        "# Forward Pass 2\n",
        "\n",
        "y_3 = w3@(torch.sigmoid(w2@(w1@x + z1) + z2)) + z3\n",
        "\n",
        "# Computing Loss\n",
        "loss = torch.mean((y-y_3)**2)\n",
        "print(\"Cost after one gradient descent step:\", loss.item())"
      ]
    },
    {
      "cell_type": "markdown",
      "source": [
        "So there you go, it's as simple as that! Perhaps the true complexity in the network can be better understood only when coded from scratch. PyTorch helps reducing this work a lot which is why it is used extensively.\n",
        "\n",
        "Congratulations! You've understood how to code a simple neural network."
      ],
      "metadata": {
        "id": "ytSEk98xX7Ft"
      }
    }
  ]
}