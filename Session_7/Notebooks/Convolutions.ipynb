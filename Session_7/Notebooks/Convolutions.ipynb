{
  "cells": [
    {
      "cell_type": "code",
      "execution_count": null,
      "metadata": {
        "id": "SICGUPzP_OFo"
      },
      "outputs": [],
      "source": [
        "import numpy as np\n",
        "import cv2  # Image reading library"
      ]
    },
    {
      "cell_type": "code",
      "execution_count": null,
      "metadata": {
        "colab": {
          "base_uri": "https://localhost:8080/"
        },
        "id": "AQlobZ0v_OFr",
        "outputId": "795c0cd8-b436-4939-e59f-9c5eeb3e6f7e"
      },
      "outputs": [
        {
          "output_type": "stream",
          "name": "stdout",
          "text": [
            "[[ 1  2  1]\n",
            " [ 0  0  0]\n",
            " [-1 -2 -1]]\n"
          ]
        }
      ],
      "source": [
        "def Convolution(image, kernel):\n",
        "    # Image and kernel should be numpy matrices. Kernel should be 3 x 3\n",
        "\n",
        "    _image = np.copy(image)/255 # Normalization\n",
        "    ry, rx = tuple(image.shape)\n",
        "    new_image = np.empty_like(_image)\n",
        "    _image = np.concatenate([np.zeros(rx).reshape((1,-1)), _image, np.zeros(rx).reshape((1,-1))])\n",
        "    _image = np.concatenate([np.zeros(ry+2).reshape([-1,1]), _image, np.zeros(ry+2).reshape([-1,1])], axis=1)\n",
        "    for row in range(1,ry+1):\n",
        "        for col in range(1,rx+1):\n",
        "            section = _image[row-1:row+2, col-1:col+2]\n",
        "            try: new_image[row-1][col-1] = np.sum(section*kernel)\n",
        "            except: print(row, col)\n",
        "    return (new_image)*255\n",
        "\n",
        "sobel_v = np.array([[1, 0, -1], [2, 0, -2], [1, 0, -1]])\n",
        "sobel_h = sobel_v.T\n",
        "print(sobel_h)\n",
        "gaussian_blur = np.array([[0.075, 0.124, 0.075], [.124, .204, .124], [.075, .124, .075]])"
      ]
    },
    {
      "cell_type": "code",
      "execution_count": null,
      "metadata": {
        "colab": {
          "base_uri": "https://localhost:8080/"
        },
        "id": "B6ux5npY_OFt",
        "outputId": "cfd99134-155d-48a1-cb0b-f3e991f6f8ec"
      },
      "outputs": [
        {
          "output_type": "stream",
          "name": "stdout",
          "text": [
            "(154, 222)\n"
          ]
        },
        {
          "output_type": "execute_result",
          "data": {
            "text/plain": [
              "True"
            ]
          },
          "metadata": {},
          "execution_count": 12
        }
      ],
      "source": [
        "img = cv2.imread('football.png', cv2.IMREAD_GRAYSCALE)\n",
        "print((img.shape))\n",
        "img_edges_v = Convolution(img, sobel_v)\n",
        "cv2.imwrite(\"Edges_vertical.png\", img_edges_v)\n",
        "img_edges_h = Convolution(img, sobel_h)\n",
        "cv2.imwrite('Edges_horizontal.png', img_edges_h)\n",
        "cv2.imwrite('Edges.png', (img_edges_v**2+img_edges_h**2)**0.5)\n",
        "img_blur = Convolution(img, gaussian_blur)\n",
        "cv2.imwrite('Gaussian Blur.png', img_blur)\n",
        "img_gauss_edges_v = Convolution(img_blur, sobel_v)\n",
        "img_gauss_edges_h = Convolution(img_blur, sobel_h)\n",
        "cv2.imwrite('Gaussian Blur + Edges.png', (img_gauss_edges_v**2+img_gauss_edges_h**2)**0.5)"
      ]
    },
    {
      "cell_type": "code",
      "execution_count": null,
      "metadata": {
        "colab": {
          "base_uri": "https://localhost:8080/"
        },
        "id": "b0xS9gz6_OFt",
        "outputId": "8da29c1f-6176-446e-9dcb-8b752ed741d4"
      },
      "outputs": [
        {
          "output_type": "stream",
          "name": "stdout",
          "text": [
            "[[-353.  -28.  341.  222.]\n",
            " [-267.   83.  179.  333.]\n",
            " [-343.  338.   80.  346.]\n",
            " [-472.  400.  162.  246.]]\n",
            "[[ 6. 14. 17. 11.  3.]\n",
            " [14. 12. 12. 17. 11.]\n",
            " [ 8. 10. 17. 19. 13.]\n",
            " [11.  9.  6. 14. 12.]\n",
            " [ 6.  4.  4.  6.  4.]]\n"
          ]
        }
      ],
      "source": [
        "ppt_conv = np.array(\n",
        "    [[50, 165, 67, 0],\n",
        "    [94, 23, 88, 12],\n",
        "    [178, 56, 90, 64],\n",
        "    [234, 208, 78, 123]]\n",
        ")\n",
        "print(Convolution(ppt_conv, sobel_v))\n",
        "ppt_conv2 = np.array(\n",
        "    [[3,3,2,1,0],\n",
        "    [0,0,1,3,1],\n",
        "    [3,1,2,2,3],\n",
        "    [2,0,0,2,2],\n",
        "    [2,0,0,0,1]]\n",
        ")\n",
        "kernel_ppt = np.array([\n",
        "    [0,1,2],\n",
        "    [2,2,0],\n",
        "    [0,1,2]\n",
        "])\n",
        "print(Convolution(ppt_conv2, kernel_ppt))"
      ]
    }
  ],
  "metadata": {
    "kernelspec": {
      "display_name": "Python 3",
      "language": "python",
      "name": "python3"
    },
    "language_info": {
      "codemirror_mode": {
        "name": "ipython",
        "version": 3
      },
      "file_extension": ".py",
      "mimetype": "text/x-python",
      "name": "python",
      "nbconvert_exporter": "python",
      "pygments_lexer": "ipython3",
      "version": "3.11.0"
    },
    "orig_nbformat": 4,
    "colab": {
      "provenance": []
    }
  },
  "nbformat": 4,
  "nbformat_minor": 0
}