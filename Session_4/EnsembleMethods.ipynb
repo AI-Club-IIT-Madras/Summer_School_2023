{
  "cells": [
    {
      "cell_type": "markdown",
      "metadata": {
        "id": "RhbGHrRRE36E"
      },
      "source": [
        "### Importing Relevant Modules"
      ]
    },
    {
      "cell_type": "code",
      "execution_count": null,
      "metadata": {
        "id": "c2nc56wJE36H"
      },
      "outputs": [],
      "source": [
        "import pandas as pd\n",
        "from sklearn.model_selection import train_test_split\n",
        "from sklearn.ensemble import RandomForestRegressor, AdaBoostRegressor, GradientBoostingRegressor, RandomForestClassifier, AdaBoostClassifier, GradientBoostingClassifier\n",
        "from xgboost import XGBRegressor, XGBClassifier\n",
        "from sklearn.metrics import mean_absolute_error, accuracy_score"
      ]
    },
    {
      "cell_type": "markdown",
      "metadata": {
        "id": "fvVU4CmME36I"
      },
      "source": [
        "### Creating Essential Data Structures"
      ]
    },
    {
      "cell_type": "code",
      "execution_count": null,
      "metadata": {
        "id": "pB0v8PxBE36J",
        "outputId": "b818d65e-83ed-4a31-a067-141081ec650c"
      },
      "outputs": [
        {
          "name": "stdout",
          "output_type": "stream",
          "text": [
            "The available features for House Price Prediction are:\n",
            " Suburb, Address, Rooms, Type, Price, Method, SellerG, Date, Distance, Postcode, Bedroom2, Bathroom, Car, Landsize, BuildingArea, YearBuilt, CouncilArea, Lattitude, Longtitude, Regionname, Propertycount\n",
            "\n",
            "The available features for Credit Score Prediction are:\n",
            " Age, Gender, Income, Education, Marital Status, Number of Children, Home Ownership, Credit Score\n",
            "\n",
            "Shape of Regression Data: (6830, 14074)\n",
            "\n",
            "Shape of Classification Data: (164, 14)\n",
            "\n"
          ]
        }
      ],
      "source": [
        "#Importing data\n",
        "RegressionData = pd.read_csv('melb_housing.csv')\n",
        "ClassificationData = pd.read_csv('credit_score.csv')\n",
        "\n",
        "#Printing the available features\n",
        "print(f\"The available features for House Price Prediction are:\\n {', '.join([i for i in RegressionData.columns])}\\n\")\n",
        "print(f\"The available features for Credit Score Prediction are:\\n {', '.join([i for i in ClassificationData.columns])}\\n\")\n",
        "\n",
        "#Defining target column\n",
        "RegPred = RegressionData.Price\n",
        "Classification = ClassificationData['Credit Score']\n",
        "\n",
        "#Defining features from which the model will learn by dropping the unwanted features\n",
        "X_Reg = RegressionData.drop(['Price', 'Method'], axis=1)\n",
        "X_Class = ClassificationData.drop(['Credit Score'], axis=1)\n",
        "\n",
        "#One Hot Encoding for categorical data\n",
        "X_Reg = pd.get_dummies(X_Reg)\n",
        "X_Class = pd.get_dummies(X_Class)\n",
        "\n",
        "#Number Encode the Credit Score\n",
        "Classification = Classification.replace({'Low': 0, 'Average': 1, 'High': 2})\n",
        "\n",
        "\n",
        "#Dropping rows with NaN values and those rows in the target column\n",
        "X_Reg = X_Reg.dropna(axis=0)\n",
        "RegPred = RegPred[X_Reg.index]\n",
        "\n",
        "X_Class = X_Class.dropna(axis=0)\n",
        "Classification = Classification[X_Class.index]\n",
        "\n",
        "print(f\"Shape of Regression Data: {X_Reg.shape}\\n\")\n",
        "print(f\"Shape of Classification Data: {X_Class.shape}\\n\")\n",
        "\n",
        "#Splitting data into training and validation data\n",
        "train_X_Reg, val_X_Reg, train_y_Reg, val_y_Reg = train_test_split(X_Reg, RegPred, random_state=1)\n",
        "train_X_Class, val_X_Class, train_y_Class, val_y_Class = train_test_split(X_Class, Classification, random_state=1)"
      ]
    },
    {
      "cell_type": "markdown",
      "metadata": {
        "id": "-0yoYvkVE36K"
      },
      "source": [
        "### <u>Regression</u> - Training the models to predict Price"
      ]
    },
    {
      "cell_type": "code",
      "execution_count": null,
      "metadata": {
        "id": "Z-eFRnY7E36K",
        "outputId": "4bbfa42c-a298-4d82-c8ed-ce1939494920"
      },
      "outputs": [
        {
          "data": {
            "text/html": [
              "<style>#sk-container-id-2 {color: black;}#sk-container-id-2 pre{padding: 0;}#sk-container-id-2 div.sk-toggleable {background-color: white;}#sk-container-id-2 label.sk-toggleable__label {cursor: pointer;display: block;width: 100%;margin-bottom: 0;padding: 0.3em;box-sizing: border-box;text-align: center;}#sk-container-id-2 label.sk-toggleable__label-arrow:before {content: \"▸\";float: left;margin-right: 0.25em;color: #696969;}#sk-container-id-2 label.sk-toggleable__label-arrow:hover:before {color: black;}#sk-container-id-2 div.sk-estimator:hover label.sk-toggleable__label-arrow:before {color: black;}#sk-container-id-2 div.sk-toggleable__content {max-height: 0;max-width: 0;overflow: hidden;text-align: left;background-color: #f0f8ff;}#sk-container-id-2 div.sk-toggleable__content pre {margin: 0.2em;color: black;border-radius: 0.25em;background-color: #f0f8ff;}#sk-container-id-2 input.sk-toggleable__control:checked~div.sk-toggleable__content {max-height: 200px;max-width: 100%;overflow: auto;}#sk-container-id-2 input.sk-toggleable__control:checked~label.sk-toggleable__label-arrow:before {content: \"▾\";}#sk-container-id-2 div.sk-estimator input.sk-toggleable__control:checked~label.sk-toggleable__label {background-color: #d4ebff;}#sk-container-id-2 div.sk-label input.sk-toggleable__control:checked~label.sk-toggleable__label {background-color: #d4ebff;}#sk-container-id-2 input.sk-hidden--visually {border: 0;clip: rect(1px 1px 1px 1px);clip: rect(1px, 1px, 1px, 1px);height: 1px;margin: -1px;overflow: hidden;padding: 0;position: absolute;width: 1px;}#sk-container-id-2 div.sk-estimator {font-family: monospace;background-color: #f0f8ff;border: 1px dotted black;border-radius: 0.25em;box-sizing: border-box;margin-bottom: 0.5em;}#sk-container-id-2 div.sk-estimator:hover {background-color: #d4ebff;}#sk-container-id-2 div.sk-parallel-item::after {content: \"\";width: 100%;border-bottom: 1px solid gray;flex-grow: 1;}#sk-container-id-2 div.sk-label:hover label.sk-toggleable__label {background-color: #d4ebff;}#sk-container-id-2 div.sk-serial::before {content: \"\";position: absolute;border-left: 1px solid gray;box-sizing: border-box;top: 0;bottom: 0;left: 50%;z-index: 0;}#sk-container-id-2 div.sk-serial {display: flex;flex-direction: column;align-items: center;background-color: white;padding-right: 0.2em;padding-left: 0.2em;position: relative;}#sk-container-id-2 div.sk-item {position: relative;z-index: 1;}#sk-container-id-2 div.sk-parallel {display: flex;align-items: stretch;justify-content: center;background-color: white;position: relative;}#sk-container-id-2 div.sk-item::before, #sk-container-id-2 div.sk-parallel-item::before {content: \"\";position: absolute;border-left: 1px solid gray;box-sizing: border-box;top: 0;bottom: 0;left: 50%;z-index: -1;}#sk-container-id-2 div.sk-parallel-item {display: flex;flex-direction: column;z-index: 1;position: relative;background-color: white;}#sk-container-id-2 div.sk-parallel-item:first-child::after {align-self: flex-end;width: 50%;}#sk-container-id-2 div.sk-parallel-item:last-child::after {align-self: flex-start;width: 50%;}#sk-container-id-2 div.sk-parallel-item:only-child::after {width: 0;}#sk-container-id-2 div.sk-dashed-wrapped {border: 1px dashed gray;margin: 0 0.4em 0.5em 0.4em;box-sizing: border-box;padding-bottom: 0.4em;background-color: white;}#sk-container-id-2 div.sk-label label {font-family: monospace;font-weight: bold;display: inline-block;line-height: 1.2em;}#sk-container-id-2 div.sk-label-container {text-align: center;}#sk-container-id-2 div.sk-container {/* jupyter's `normalize.less` sets `[hidden] { display: none; }` but bootstrap.min.css set `[hidden] { display: none !important; }` so we also need the `!important` here to be able to override the default hidden behavior on the sphinx rendered scikit-learn.org. See: https://github.com/scikit-learn/scikit-learn/issues/21755 */display: inline-block !important;position: relative;}#sk-container-id-2 div.sk-text-repr-fallback {display: none;}</style><div id=\"sk-container-id-2\" class=\"sk-top-container\"><div class=\"sk-text-repr-fallback\"><pre>XGBRegressor(base_score=None, booster=None, callbacks=None,\n",
              "             colsample_bylevel=None, colsample_bynode=None,\n",
              "             colsample_bytree=None, early_stopping_rounds=None,\n",
              "             enable_categorical=False, eval_metric=None, feature_types=None,\n",
              "             gamma=None, gpu_id=None, grow_policy=None, importance_type=None,\n",
              "             interaction_constraints=None, learning_rate=None, max_bin=None,\n",
              "             max_cat_threshold=None, max_cat_to_onehot=None,\n",
              "             max_delta_step=None, max_depth=None, max_leaves=None,\n",
              "             min_child_weight=None, missing=nan, monotone_constraints=None,\n",
              "             n_estimators=100, n_jobs=None, num_parallel_tree=None,\n",
              "             predictor=None, random_state=42, ...)</pre><b>In a Jupyter environment, please rerun this cell to show the HTML representation or trust the notebook. <br />On GitHub, the HTML representation is unable to render, please try loading this page with nbviewer.org.</b></div><div class=\"sk-container\" hidden><div class=\"sk-item\"><div class=\"sk-estimator sk-toggleable\"><input class=\"sk-toggleable__control sk-hidden--visually\" id=\"sk-estimator-id-2\" type=\"checkbox\" checked><label for=\"sk-estimator-id-2\" class=\"sk-toggleable__label sk-toggleable__label-arrow\">XGBRegressor</label><div class=\"sk-toggleable__content\"><pre>XGBRegressor(base_score=None, booster=None, callbacks=None,\n",
              "             colsample_bylevel=None, colsample_bynode=None,\n",
              "             colsample_bytree=None, early_stopping_rounds=None,\n",
              "             enable_categorical=False, eval_metric=None, feature_types=None,\n",
              "             gamma=None, gpu_id=None, grow_policy=None, importance_type=None,\n",
              "             interaction_constraints=None, learning_rate=None, max_bin=None,\n",
              "             max_cat_threshold=None, max_cat_to_onehot=None,\n",
              "             max_delta_step=None, max_depth=None, max_leaves=None,\n",
              "             min_child_weight=None, missing=nan, monotone_constraints=None,\n",
              "             n_estimators=100, n_jobs=None, num_parallel_tree=None,\n",
              "             predictor=None, random_state=42, ...)</pre></div></div></div></div></div>"
            ],
            "text/plain": [
              "XGBRegressor(base_score=None, booster=None, callbacks=None,\n",
              "             colsample_bylevel=None, colsample_bynode=None,\n",
              "             colsample_bytree=None, early_stopping_rounds=None,\n",
              "             enable_categorical=False, eval_metric=None, feature_types=None,\n",
              "             gamma=None, gpu_id=None, grow_policy=None, importance_type=None,\n",
              "             interaction_constraints=None, learning_rate=None, max_bin=None,\n",
              "             max_cat_threshold=None, max_cat_to_onehot=None,\n",
              "             max_delta_step=None, max_depth=None, max_leaves=None,\n",
              "             min_child_weight=None, missing=nan, monotone_constraints=None,\n",
              "             n_estimators=100, n_jobs=None, num_parallel_tree=None,\n",
              "             predictor=None, random_state=42, ...)"
            ]
          },
          "execution_count": 11,
          "metadata": {},
          "output_type": "execute_result"
        }
      ],
      "source": [
        "RandomForestModel = RandomForestRegressor(random_state=42)\n",
        "RandomForestModel.fit(train_X_Reg, train_y_Reg)\n",
        "\n",
        "AdaBoostModel = AdaBoostRegressor(random_state=42)\n",
        "AdaBoostModel.fit(train_X_Reg, train_y_Reg)\n",
        "\n",
        "GradientBoostingModel = GradientBoostingRegressor(random_state=42)\n",
        "GradientBoostingModel.fit(train_X_Reg, train_y_Reg)\n",
        "\n",
        "XGBModel = XGBRegressor(random_state=42)\n",
        "XGBModel.fit(train_X_Reg, train_y_Reg)"
      ]
    },
    {
      "cell_type": "markdown",
      "metadata": {
        "id": "c8QFF0mqE36L"
      },
      "source": [
        "### Random Forest Accuracy:"
      ]
    },
    {
      "cell_type": "code",
      "execution_count": null,
      "metadata": {
        "id": "ck04-SwIE36L",
        "outputId": "5bc29de5-cade-449c-aaed-065722cf05ad"
      },
      "outputs": [
        {
          "name": "stdout",
          "output_type": "stream",
          "text": [
            "Random Forest Error:  168383.72243559724\n"
          ]
        }
      ],
      "source": [
        "RandomForestPrediction = RandomForestModel.predict(val_X_Reg)\n",
        "print(\"Random Forest Error: \", mean_absolute_error(val_y_Reg, RandomForestPrediction))"
      ]
    },
    {
      "cell_type": "markdown",
      "metadata": {
        "id": "nfJBtI9xE36M"
      },
      "source": [
        "### AdaBoost Accuracy:"
      ]
    },
    {
      "cell_type": "code",
      "execution_count": null,
      "metadata": {
        "id": "ZDwrYj4VE36M",
        "outputId": "0d02c558-a644-4848-fe03-061160e6cefa"
      },
      "outputs": [
        {
          "name": "stdout",
          "output_type": "stream",
          "text": [
            "AdaBoost Error:  527607.8045972564\n"
          ]
        }
      ],
      "source": [
        "AdaBoostPrediction = AdaBoostModel.predict(val_X_Reg)\n",
        "print(\"AdaBoost Error: \", mean_absolute_error(val_y_Reg, AdaBoostPrediction))"
      ]
    },
    {
      "cell_type": "markdown",
      "metadata": {
        "id": "VVbK3T6BE36M"
      },
      "source": [
        "### Gradient Boost Accuracy:"
      ]
    },
    {
      "cell_type": "code",
      "execution_count": null,
      "metadata": {
        "id": "-WXWlzAhE36N",
        "outputId": "890393a2-8bac-4701-8b45-8919cc42fd88"
      },
      "outputs": [
        {
          "name": "stdout",
          "output_type": "stream",
          "text": [
            "Gradient Boost Error:  186105.82731716233\n"
          ]
        }
      ],
      "source": [
        "GradientBoostPrediction = GradientBoostingModel.predict(val_X_Reg)\n",
        "print(\"Gradient Boost Error: \", mean_absolute_error(val_y_Reg, GradientBoostPrediction))"
      ]
    },
    {
      "cell_type": "markdown",
      "metadata": {
        "id": "raJ7JYFsE36N"
      },
      "source": [
        "### XGBoost Accuracy:"
      ]
    },
    {
      "cell_type": "code",
      "execution_count": null,
      "metadata": {
        "id": "8SJwbCsKE36N",
        "outputId": "be3e0557-4b6b-420f-d45e-184a6c3a6efa"
      },
      "outputs": [
        {
          "name": "stdout",
          "output_type": "stream",
          "text": [
            "XGBoost Error:  170210.34643954918\n"
          ]
        }
      ],
      "source": [
        "XGBoostPrediction = XGBModel.predict(val_X_Reg)\n",
        "print(\"XGBoost Error: \", mean_absolute_error(val_y_Reg, XGBoostPrediction))"
      ]
    },
    {
      "cell_type": "markdown",
      "metadata": {
        "id": "HnvUzP4hE36N"
      },
      "source": [
        "### <u>Classification</u> - Training the models to predict Credit Score\n"
      ]
    },
    {
      "cell_type": "code",
      "execution_count": null,
      "metadata": {
        "id": "c6VBQ5owE36N",
        "outputId": "77e72fd3-91bf-4f2f-fd5e-07994c08f326"
      },
      "outputs": [
        {
          "data": {
            "text/html": [
              "<style>#sk-container-id-1 {color: black;}#sk-container-id-1 pre{padding: 0;}#sk-container-id-1 div.sk-toggleable {background-color: white;}#sk-container-id-1 label.sk-toggleable__label {cursor: pointer;display: block;width: 100%;margin-bottom: 0;padding: 0.3em;box-sizing: border-box;text-align: center;}#sk-container-id-1 label.sk-toggleable__label-arrow:before {content: \"▸\";float: left;margin-right: 0.25em;color: #696969;}#sk-container-id-1 label.sk-toggleable__label-arrow:hover:before {color: black;}#sk-container-id-1 div.sk-estimator:hover label.sk-toggleable__label-arrow:before {color: black;}#sk-container-id-1 div.sk-toggleable__content {max-height: 0;max-width: 0;overflow: hidden;text-align: left;background-color: #f0f8ff;}#sk-container-id-1 div.sk-toggleable__content pre {margin: 0.2em;color: black;border-radius: 0.25em;background-color: #f0f8ff;}#sk-container-id-1 input.sk-toggleable__control:checked~div.sk-toggleable__content {max-height: 200px;max-width: 100%;overflow: auto;}#sk-container-id-1 input.sk-toggleable__control:checked~label.sk-toggleable__label-arrow:before {content: \"▾\";}#sk-container-id-1 div.sk-estimator input.sk-toggleable__control:checked~label.sk-toggleable__label {background-color: #d4ebff;}#sk-container-id-1 div.sk-label input.sk-toggleable__control:checked~label.sk-toggleable__label {background-color: #d4ebff;}#sk-container-id-1 input.sk-hidden--visually {border: 0;clip: rect(1px 1px 1px 1px);clip: rect(1px, 1px, 1px, 1px);height: 1px;margin: -1px;overflow: hidden;padding: 0;position: absolute;width: 1px;}#sk-container-id-1 div.sk-estimator {font-family: monospace;background-color: #f0f8ff;border: 1px dotted black;border-radius: 0.25em;box-sizing: border-box;margin-bottom: 0.5em;}#sk-container-id-1 div.sk-estimator:hover {background-color: #d4ebff;}#sk-container-id-1 div.sk-parallel-item::after {content: \"\";width: 100%;border-bottom: 1px solid gray;flex-grow: 1;}#sk-container-id-1 div.sk-label:hover label.sk-toggleable__label {background-color: #d4ebff;}#sk-container-id-1 div.sk-serial::before {content: \"\";position: absolute;border-left: 1px solid gray;box-sizing: border-box;top: 0;bottom: 0;left: 50%;z-index: 0;}#sk-container-id-1 div.sk-serial {display: flex;flex-direction: column;align-items: center;background-color: white;padding-right: 0.2em;padding-left: 0.2em;position: relative;}#sk-container-id-1 div.sk-item {position: relative;z-index: 1;}#sk-container-id-1 div.sk-parallel {display: flex;align-items: stretch;justify-content: center;background-color: white;position: relative;}#sk-container-id-1 div.sk-item::before, #sk-container-id-1 div.sk-parallel-item::before {content: \"\";position: absolute;border-left: 1px solid gray;box-sizing: border-box;top: 0;bottom: 0;left: 50%;z-index: -1;}#sk-container-id-1 div.sk-parallel-item {display: flex;flex-direction: column;z-index: 1;position: relative;background-color: white;}#sk-container-id-1 div.sk-parallel-item:first-child::after {align-self: flex-end;width: 50%;}#sk-container-id-1 div.sk-parallel-item:last-child::after {align-self: flex-start;width: 50%;}#sk-container-id-1 div.sk-parallel-item:only-child::after {width: 0;}#sk-container-id-1 div.sk-dashed-wrapped {border: 1px dashed gray;margin: 0 0.4em 0.5em 0.4em;box-sizing: border-box;padding-bottom: 0.4em;background-color: white;}#sk-container-id-1 div.sk-label label {font-family: monospace;font-weight: bold;display: inline-block;line-height: 1.2em;}#sk-container-id-1 div.sk-label-container {text-align: center;}#sk-container-id-1 div.sk-container {/* jupyter's `normalize.less` sets `[hidden] { display: none; }` but bootstrap.min.css set `[hidden] { display: none !important; }` so we also need the `!important` here to be able to override the default hidden behavior on the sphinx rendered scikit-learn.org. See: https://github.com/scikit-learn/scikit-learn/issues/21755 */display: inline-block !important;position: relative;}#sk-container-id-1 div.sk-text-repr-fallback {display: none;}</style><div id=\"sk-container-id-1\" class=\"sk-top-container\"><div class=\"sk-text-repr-fallback\"><pre>XGBClassifier(base_score=None, booster=None, callbacks=None,\n",
              "              colsample_bylevel=None, colsample_bynode=None,\n",
              "              colsample_bytree=None, early_stopping_rounds=None,\n",
              "              enable_categorical=False, eval_metric=None, feature_types=None,\n",
              "              gamma=None, gpu_id=None, grow_policy=None, importance_type=None,\n",
              "              interaction_constraints=None, learning_rate=None, max_bin=None,\n",
              "              max_cat_threshold=None, max_cat_to_onehot=None,\n",
              "              max_delta_step=None, max_depth=None, max_leaves=None,\n",
              "              min_child_weight=None, missing=nan, monotone_constraints=None,\n",
              "              n_estimators=100, n_jobs=None, num_parallel_tree=None,\n",
              "              objective=&#x27;multi:softprob&#x27;, predictor=None, ...)</pre><b>In a Jupyter environment, please rerun this cell to show the HTML representation or trust the notebook. <br />On GitHub, the HTML representation is unable to render, please try loading this page with nbviewer.org.</b></div><div class=\"sk-container\" hidden><div class=\"sk-item\"><div class=\"sk-estimator sk-toggleable\"><input class=\"sk-toggleable__control sk-hidden--visually\" id=\"sk-estimator-id-1\" type=\"checkbox\" checked><label for=\"sk-estimator-id-1\" class=\"sk-toggleable__label sk-toggleable__label-arrow\">XGBClassifier</label><div class=\"sk-toggleable__content\"><pre>XGBClassifier(base_score=None, booster=None, callbacks=None,\n",
              "              colsample_bylevel=None, colsample_bynode=None,\n",
              "              colsample_bytree=None, early_stopping_rounds=None,\n",
              "              enable_categorical=False, eval_metric=None, feature_types=None,\n",
              "              gamma=None, gpu_id=None, grow_policy=None, importance_type=None,\n",
              "              interaction_constraints=None, learning_rate=None, max_bin=None,\n",
              "              max_cat_threshold=None, max_cat_to_onehot=None,\n",
              "              max_delta_step=None, max_depth=None, max_leaves=None,\n",
              "              min_child_weight=None, missing=nan, monotone_constraints=None,\n",
              "              n_estimators=100, n_jobs=None, num_parallel_tree=None,\n",
              "              objective=&#x27;multi:softprob&#x27;, predictor=None, ...)</pre></div></div></div></div></div>"
            ],
            "text/plain": [
              "XGBClassifier(base_score=None, booster=None, callbacks=None,\n",
              "              colsample_bylevel=None, colsample_bynode=None,\n",
              "              colsample_bytree=None, early_stopping_rounds=None,\n",
              "              enable_categorical=False, eval_metric=None, feature_types=None,\n",
              "              gamma=None, gpu_id=None, grow_policy=None, importance_type=None,\n",
              "              interaction_constraints=None, learning_rate=None, max_bin=None,\n",
              "              max_cat_threshold=None, max_cat_to_onehot=None,\n",
              "              max_delta_step=None, max_depth=None, max_leaves=None,\n",
              "              min_child_weight=None, missing=nan, monotone_constraints=None,\n",
              "              n_estimators=100, n_jobs=None, num_parallel_tree=None,\n",
              "              objective='multi:softprob', predictor=None, ...)"
            ]
          },
          "execution_count": 3,
          "metadata": {},
          "output_type": "execute_result"
        }
      ],
      "source": [
        "RandomForestModel = RandomForestClassifier(random_state=42)\n",
        "RandomForestModel.fit(train_X_Class, train_y_Class)\n",
        "\n",
        "AdaBoostModel = AdaBoostClassifier(random_state=42)\n",
        "AdaBoostModel.fit(train_X_Class, train_y_Class)\n",
        "\n",
        "GradientBoostingModel = GradientBoostingClassifier(random_state=42)\n",
        "GradientBoostingModel.fit(train_X_Class, train_y_Class)\n",
        "\n",
        "XGBModel = XGBClassifier(random_state=42)\n",
        "XGBModel.fit(train_X_Class, train_y_Class)"
      ]
    },
    {
      "cell_type": "markdown",
      "metadata": {
        "id": "T6BiI_4SE36O"
      },
      "source": [
        "### Random Forest Accuracy:"
      ]
    },
    {
      "cell_type": "code",
      "execution_count": null,
      "metadata": {
        "id": "dKhVKGLtE36O",
        "outputId": "4c9bd951-7d55-417e-f756-12a7779f896c"
      },
      "outputs": [
        {
          "name": "stdout",
          "output_type": "stream",
          "text": [
            "Random Forest Accuracy:  97.56 %\n"
          ]
        }
      ],
      "source": [
        "RandomForestPrediction = RandomForestModel.predict(val_X_Class)\n",
        "print(\"Random Forest Accuracy: \", round(accuracy_score(val_y_Class, RandomForestPrediction)*100, 2),\"%\")"
      ]
    },
    {
      "cell_type": "markdown",
      "metadata": {
        "id": "TO07lmdGE36O"
      },
      "source": [
        "### AdaBoost Accuracy:"
      ]
    },
    {
      "cell_type": "code",
      "execution_count": null,
      "metadata": {
        "id": "cXYg5_CZE36O",
        "outputId": "f9ffc7d3-37a8-47aa-8de1-78ffd6529e91"
      },
      "outputs": [
        {
          "name": "stdout",
          "output_type": "stream",
          "text": [
            "AdaBoost Accuracy:  100.0 %\n"
          ]
        }
      ],
      "source": [
        "AdaBoostPrediction = AdaBoostModel.predict(val_X_Class)\n",
        "print(\"AdaBoost Accuracy: \", round(accuracy_score(val_y_Class, AdaBoostPrediction)*100, 2),\"%\")"
      ]
    },
    {
      "cell_type": "markdown",
      "metadata": {
        "id": "vA7TTMAJE36O"
      },
      "source": [
        "### Gradient Boost Accuracy:"
      ]
    },
    {
      "cell_type": "code",
      "execution_count": null,
      "metadata": {
        "id": "DAFkkVLYE36O",
        "outputId": "79656715-13d4-4290-99d7-122c53b51c1e"
      },
      "outputs": [
        {
          "name": "stdout",
          "output_type": "stream",
          "text": [
            "Gradient Boost Accuracy:  97.56 %\n"
          ]
        }
      ],
      "source": [
        "GradientBoostPrediction = GradientBoostingModel.predict(val_X_Class)\n",
        "print(\"Gradient Boost Accuracy: \", round(accuracy_score(val_y_Class, GradientBoostPrediction)*100, 2),\"%\")"
      ]
    },
    {
      "cell_type": "markdown",
      "metadata": {
        "id": "DizSE4GeE36P"
      },
      "source": [
        "### XGBoost Accuracy:"
      ]
    },
    {
      "cell_type": "code",
      "execution_count": null,
      "metadata": {
        "id": "hHgh8WlOE36P",
        "outputId": "8a1d410d-c6b5-455f-82c7-6d70d2f8a5c6"
      },
      "outputs": [
        {
          "name": "stdout",
          "output_type": "stream",
          "text": [
            "XGBoost Accuracy:  100.0 %\n"
          ]
        }
      ],
      "source": [
        "XGBoostPrediction = XGBModel.predict(val_X_Class)\n",
        "print(\"XGBoost Accuracy: \", round(accuracy_score(val_y_Class, XGBoostPrediction)*100, 2),\"%\")"
      ]
    }
  ],
  "metadata": {
    "kernelspec": {
      "display_name": "Python 3",
      "language": "python",
      "name": "python3"
    },
    "language_info": {
      "codemirror_mode": {
        "name": "ipython",
        "version": 3
      },
      "file_extension": ".py",
      "mimetype": "text/x-python",
      "name": "python",
      "nbconvert_exporter": "python",
      "pygments_lexer": "ipython3",
      "version": "3.11.4"
    },
    "orig_nbformat": 4,
    "colab": {
      "provenance": []
    }
  },
  "nbformat": 4,
  "nbformat_minor": 0
}